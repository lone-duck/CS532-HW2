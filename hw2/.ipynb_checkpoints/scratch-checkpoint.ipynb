{
 "cells": [
  {
   "cell_type": "code",
   "execution_count": 35,
   "id": "9134531c",
   "metadata": {},
   "outputs": [],
   "source": [
    "import torch\n",
    "import math\n",
    "import operator as op\n",
    "\n",
    "def pure_hashmap_update(d, k, v):\n",
    "    if isinstance(k, torch.Tensor):\n",
    "        k = k.item()\n",
    "    d2 = d.copy()\n",
    "    d2.update({k:v})\n",
    "    return d2\n",
    "    \n",
    "\n",
    "# inspired by https://norvig.com/lispy.html\n",
    "def eval_env():\n",
    "\tenv = {}\n",
    "\tenv.update({\n",
    "\t\t'+': op.add,\n",
    "       \t'-': op.sub,\n",
    "        '*': op.mul,\n",
    "        '/': op.truediv,\n",
    "        '>': op.gt,\n",
    "        '<': op.lt,\n",
    "        '>=': op.ge,\n",
    "        '<=': op.le, \n",
    "        '=': op.eq,\n",
    "        'sqrt': torch.sqrt,\n",
    "        'vector': lambda *x: torch.tensor(x),\n",
    "        'hash-map': lambda *x : dict(zip([i.item() if isinstance(i, torch.Tensor) else i for i in x[::2]], x[1::2])),\n",
    "        'get': lambda x, y: x[y.long()] if isinstance(x, torch.Tensor) else x[y.item() if isinstance(y, torch.Tensor) else y],\n",
    "        'put': lambda x, y, z: torch.cat((x[:y.long()], torch.tensor([z]), x[y.long()+1:])) if isinstance(x, torch.Tensor) else pure_hashmap_update(x,y,z),\n",
    "        'append' : lambda x, y: torch.cat((x, torch.tensor([y]))),\n",
    "        'first' : lambda x: x[0],\n",
    "        'last' : lambda x: x[-1],\n",
    "        'remove': lambda x, y : torch.cat((x[:y.long()], x[y.long()+1:])) if isinstance(x, torch.Tensor) else {i:x[i] for i in x if i != y}\n",
    "        })\n",
    "\n",
    "\n",
    "\treturn env"
   ]
  },
  {
   "cell_type": "code",
   "execution_count": 36,
   "id": "5e7a00d5",
   "metadata": {},
   "outputs": [],
   "source": [
    "ENV = None\n",
    "\n",
    "def evaluate_program(ast, return_sig=False):\n",
    "    \"\"\"Evaluate a program as desugared by daphne, generate a sample from the prior\n",
    "    Args:\n",
    "        ast: json FOPPL program\n",
    "    Returns: sample from the prior of ast\n",
    "    \"\"\"\n",
    "    global ENV\n",
    "    ENV = eval_env()\n",
    "    \"\"\"\n",
    "    something here to deal with defns\n",
    "    \n",
    "    \"\"\"\n",
    "    l = {}\n",
    "    ret, sig = evaluate(ast)\n",
    "    return (ret, sig) if return_sig else ret\n",
    "\n",
    "# inspired by https://norvig.com/lispy.html\n",
    "def evaluate(e, l, sig=None):\n",
    "    # variable reference\n",
    "    if isinstance(e, str):        \n",
    "        return ENV[e], sig\n",
    "    # constant number\n",
    "    elif isinstance(e, (int, float)):   \n",
    "        return torch.tensor(float(e)), sig\n",
    "    # root of tree\n",
    "    # THIS MUST BE FIXED TO ACCOUNT FOR DEFNs!!!!\n",
    "    elif isinstance(e, list) and len(e) == 1:  \n",
    "        return evaluate(e[0], l)\n",
    "    # if statements\n",
    "    elif e[0] == 'if':\n",
    "        (_, test, conseq, alt) = e\n",
    "        print(test)\n",
    "        exp = (conseq if evaluate(test, l)[0] else alt)\n",
    "        return evaluate(exp)\n",
    "    # procedure call\n",
    "    else:\n",
    "        proc, sig = evaluate(e[0], l)\n",
    "        args = [evaluate(arg, l)[0] for arg in e[1:]]\n",
    "        result, sig = proc(*args), sig\n",
    "        return result, sig"
   ]
  },
  {
   "cell_type": "code",
   "execution_count": 37,
   "id": "db57a19c",
   "metadata": {},
   "outputs": [
    {
     "data": {
      "text/plain": [
       "tensor(7.)"
      ]
     },
     "execution_count": 37,
     "metadata": {},
     "output_type": "execute_result"
    }
   ],
   "source": [
    "evaluate_program([['+', 5, 2]])"
   ]
  },
  {
   "cell_type": "code",
   "execution_count": 38,
   "id": "a91761a8",
   "metadata": {},
   "outputs": [
    {
     "data": {
      "text/plain": [
       "tensor(1.4142)"
      ]
     },
     "execution_count": 38,
     "metadata": {},
     "output_type": "execute_result"
    }
   ],
   "source": [
    "evaluate_program([['sqrt', 2]])"
   ]
  },
  {
   "cell_type": "code",
   "execution_count": 39,
   "id": "4c6f4463",
   "metadata": {},
   "outputs": [
    {
     "data": {
      "text/plain": [
       "tensor(24.)"
      ]
     },
     "execution_count": 39,
     "metadata": {},
     "output_type": "execute_result"
    }
   ],
   "source": [
    "evaluate_program([['*', 3.0, 8.0]])"
   ]
  },
  {
   "cell_type": "code",
   "execution_count": 40,
   "id": "1c45269b",
   "metadata": {},
   "outputs": [
    {
     "data": {
      "text/plain": [
       "tensor(0.2500)"
      ]
     },
     "execution_count": 40,
     "metadata": {},
     "output_type": "execute_result"
    }
   ],
   "source": [
    "evaluate_program([['/', 2, 8]])"
   ]
  },
  {
   "cell_type": "code",
   "execution_count": 41,
   "id": "b843c537",
   "metadata": {},
   "outputs": [
    {
     "data": {
      "text/plain": [
       "tensor(0.1802)"
      ]
     },
     "execution_count": 41,
     "metadata": {},
     "output_type": "execute_result"
    }
   ],
   "source": [
    "evaluate_program([['/', 2, ['+', 3, ['*', 3, 2.7]]]])"
   ]
  },
  {
   "cell_type": "code",
   "execution_count": 42,
   "id": "0b0e77c6",
   "metadata": {},
   "outputs": [
    {
     "data": {
      "text/plain": [
       "tensor([2., 3., 4., 5.])"
      ]
     },
     "execution_count": 42,
     "metadata": {},
     "output_type": "execute_result"
    }
   ],
   "source": [
    "evaluate_program([['vector', 2, 3, 4, 5]])"
   ]
  },
  {
   "cell_type": "code",
   "execution_count": 43,
   "id": "73aa319d",
   "metadata": {},
   "outputs": [
    {
     "data": {
      "text/plain": [
       "tensor(4.)"
      ]
     },
     "execution_count": 43,
     "metadata": {},
     "output_type": "execute_result"
    }
   ],
   "source": [
    "evaluate_program([['get', ['vector', 2, 3, 4, 5], 2]])"
   ]
  },
  {
   "cell_type": "code",
   "execution_count": 44,
   "id": "3401ca24",
   "metadata": {},
   "outputs": [
    {
     "data": {
      "text/plain": [
       "tensor([2., 3., 3., 5.])"
      ]
     },
     "execution_count": 44,
     "metadata": {},
     "output_type": "execute_result"
    }
   ],
   "source": [
    "evaluate_program([['put', ['vector', 2, 3, 4, 5], 2, 3]])"
   ]
  },
  {
   "cell_type": "code",
   "execution_count": 45,
   "id": "287fecaf",
   "metadata": {},
   "outputs": [
    {
     "data": {
      "text/plain": [
       "tensor(2.)"
      ]
     },
     "execution_count": 45,
     "metadata": {},
     "output_type": "execute_result"
    }
   ],
   "source": [
    "evaluate_program([['first', ['vector', 2, 3, 4, 5]]])"
   ]
  },
  {
   "cell_type": "code",
   "execution_count": 46,
   "id": "39e358da",
   "metadata": {},
   "outputs": [
    {
     "data": {
      "text/plain": [
       "tensor(5.)"
      ]
     },
     "execution_count": 46,
     "metadata": {},
     "output_type": "execute_result"
    }
   ],
   "source": [
    "evaluate_program([['last', ['vector', 2, 3, 4, 5]]])"
   ]
  },
  {
   "cell_type": "code",
   "execution_count": 47,
   "id": "fb6992be",
   "metadata": {},
   "outputs": [
    {
     "data": {
      "text/plain": [
       "tensor([2.0000, 3.0000, 4.0000, 5.0000, 3.1400])"
      ]
     },
     "execution_count": 47,
     "metadata": {},
     "output_type": "execute_result"
    }
   ],
   "source": [
    "evaluate_program([['append', ['vector', 2, 3, 4, 5], 3.14]])"
   ]
  },
  {
   "cell_type": "code",
   "execution_count": 48,
   "id": "fd6d4088",
   "metadata": {},
   "outputs": [
    {
     "data": {
      "text/plain": [
       "tensor(5.3000)"
      ]
     },
     "execution_count": 48,
     "metadata": {},
     "output_type": "execute_result"
    }
   ],
   "source": [
    "evaluate_program([['get', ['hash-map', 6, 5.3, 1, 3.2], 6]])"
   ]
  },
  {
   "cell_type": "code",
   "execution_count": 49,
   "id": "01a33bbd",
   "metadata": {},
   "outputs": [
    {
     "data": {
      "text/plain": [
       "{6.0: tensor(2.), 1.0: tensor(3.2000)}"
      ]
     },
     "execution_count": 49,
     "metadata": {},
     "output_type": "execute_result"
    }
   ],
   "source": [
    "evaluate_program([['put', ['hash-map', 6, 5.3, 1, 3.2], 6, 2]])"
   ]
  },
  {
   "cell_type": "code",
   "execution_count": 50,
   "id": "80f26370",
   "metadata": {},
   "outputs": [
    {
     "data": {
      "text/plain": [
       "tensor([2., 3., 4.])"
      ]
     },
     "execution_count": 50,
     "metadata": {},
     "output_type": "execute_result"
    }
   ],
   "source": [
    "evaluate_program([['remove', ['vector', 2, 3, 4, 5], 3]])"
   ]
  },
  {
   "cell_type": "code",
   "execution_count": 51,
   "id": "caa6ea33",
   "metadata": {},
   "outputs": [
    {
     "data": {
      "text/plain": [
       "tensor(4.)"
      ]
     },
     "execution_count": 51,
     "metadata": {},
     "output_type": "execute_result"
    }
   ],
   "source": [
    "evaluate_program([['if', ['>', 1, 0], ['*', 2, 2], ['/', 2, 2]]])"
   ]
  },
  {
   "cell_type": "code",
   "execution_count": 52,
   "id": "87b30000",
   "metadata": {},
   "outputs": [
    {
     "data": {
      "text/plain": [
       "tensor(1.)"
      ]
     },
     "execution_count": 52,
     "metadata": {},
     "output_type": "execute_result"
    }
   ],
   "source": [
    "evaluate_program([['if', ['<', 1, 0], ['*', 2, 2], ['/', 2, 2]]])"
   ]
  },
  {
   "cell_type": "code",
   "execution_count": 53,
   "id": "1532bf12",
   "metadata": {},
   "outputs": [
    {
     "data": {
      "text/plain": [
       "{1.0: tensor(3.2000)}"
      ]
     },
     "execution_count": 53,
     "metadata": {},
     "output_type": "execute_result"
    }
   ],
   "source": [
    "evaluate_program([['remove', ['hash-map', 6, 5.3, 1, 3.2], 6]])"
   ]
  },
  {
   "cell_type": "code",
   "execution_count": null,
   "id": "abdfa2b3",
   "metadata": {},
   "outputs": [],
   "source": []
  },
  {
   "cell_type": "code",
   "execution_count": null,
   "id": "4b3cf6d7",
   "metadata": {},
   "outputs": [],
   "source": []
  }
 ],
 "metadata": {
  "kernelspec": {
   "display_name": "Python 3 (ipykernel)",
   "language": "python",
   "name": "python3"
  },
  "language_info": {
   "codemirror_mode": {
    "name": "ipython",
    "version": 3
   },
   "file_extension": ".py",
   "mimetype": "text/x-python",
   "name": "python",
   "nbconvert_exporter": "python",
   "pygments_lexer": "ipython3",
   "version": "3.8.5"
  }
 },
 "nbformat": 4,
 "nbformat_minor": 5
}
