{
 "cells": [
  {
   "cell_type": "code",
   "execution_count": 109,
   "id": "a3767966",
   "metadata": {},
   "outputs": [],
   "source": [
    "import torch\n",
    "import math\n",
    "import operator as op\n",
    "\n",
    "def pure_hashmap_update(d, k, v):\n",
    "    if isinstance(k, torch.Tensor):\n",
    "        k = k.item()\n",
    "    d2 = d.copy()\n",
    "    d2.update({k:v})\n",
    "    return d2\n",
    "    \n",
    "\n",
    "# inspired by https://norvig.com/lispy.html\n",
    "def eval_env():\n",
    "\tenv = {}\n",
    "\tenv.update({\n",
    "\t\t'+': op.add,\n",
    "       \t'-': op.sub,\n",
    "        '*': op.mul,\n",
    "        '/': op.truediv,\n",
    "        '>': op.gt,\n",
    "        '<': op.lt,\n",
    "        '>=': op.ge,\n",
    "        '<=': op.le, \n",
    "        '=': op.eq,\n",
    "        'sqrt': torch.sqrt,\n",
    "        'vector': lambda *x: torch.tensor(x),\n",
    "        'hash-map': lambda *x : dict(zip([i.item() if isinstance(i, torch.Tensor) else i for i in x[::2]], x[1::2])),\n",
    "        'get': lambda x, y: x[y.long()] if isinstance(x, torch.Tensor) else x[y.item() if isinstance(y, torch.Tensor) else y],\n",
    "        'put': lambda x, y, z: torch.cat((x[:y.long()], torch.tensor([z]), x[y.long()+1:])) if isinstance(x, torch.Tensor) else pure_hashmap_update(x,y,z),\n",
    "        'append' : lambda x, y: torch.cat((x, torch.tensor([y]))),\n",
    "        'first' : lambda x: x[0],\n",
    "        'last' : lambda x: x[-1],\n",
    "        'remove': lambda x, y : torch.cat((x[:y.long()], x[y.long()+1:])) if isinstance(x, torch.Tensor) else {i:x[i] for i in x if i != y},\n",
    "        'normal': torch.distributions.Normal,\n",
    "        'beta': torch.distributions.beta.Beta,\n",
    "        'exponential': torch.distributions.exponential.Exponential,\n",
    "        'uniform': torch.distributions.uniform.Uniform,\n",
    "        'bernoulli': torch.distributions.bernoulli.Bernoulli,\n",
    "        'discrete': lambda *x: torch.distributions.categorical.Categorical(torch.tensor(x)) \n",
    "        })\n",
    "\n",
    "\n",
    "\treturn env"
   ]
  },
  {
   "cell_type": "code",
   "execution_count": 110,
   "id": "6cb8fb58",
   "metadata": {},
   "outputs": [],
   "source": [
    "ENV = None\n",
    "\n",
    "def evaluate_program(ast, return_sig=False):\n",
    "    \"\"\"Evaluate a program as desugared by daphne, generate a sample from the prior\n",
    "    Args:\n",
    "        ast: json FOPPL program\n",
    "    Returns: sample from the prior of ast\n",
    "    \"\"\"\n",
    "    global ENV\n",
    "    ENV = eval_env()\n",
    "    for defn in ast[:-1]:\n",
    "        f_name = defn[1]\n",
    "        f_v_is = defn[2]\n",
    "        f_expr = defn[3]\n",
    "        ENV.update({f_name: (f_v_is, f_expr)})\n",
    "    l = {}\n",
    "    ret, sig = evaluate(ast[-1], l)\n",
    "    return (ret, sig) if return_sig else ret\n",
    "\n",
    "# inspired by https://norvig.com/lispy.html\n",
    "def evaluate(e, l, sig=None):\n",
    "    # variable reference OR procedure OR just a string\n",
    "    if isinstance(e, str):        \n",
    "        # global procedures take precedence over locally defined vars\n",
    "        if e in ENV:\n",
    "            return ENV[e], sig\n",
    "        elif e in l:\n",
    "            return l[e], sig\n",
    "        # allows for hashmaps with string keys\n",
    "        else:\n",
    "            return e\n",
    "    # constant number\n",
    "    elif isinstance(e, (int, float)):   \n",
    "        return torch.tensor(float(e)), sig\n",
    "    # if statements\n",
    "    elif e[0] == 'if':\n",
    "        (_, test, conseq, alt) = e\n",
    "        exp = (conseq if evaluate(test, l)[0] else alt)\n",
    "        return evaluate(exp, l)\n",
    "    # let statements\n",
    "    elif e[0] == 'let':\n",
    "        # get symbol\n",
    "        symbol = e[1][0]\n",
    "        # get value of e1\n",
    "        value, _ = evaluate(e[1][1], l)\n",
    "        # evaluate e2 with value \n",
    "        return evaluate(e[2], {**l, symbol: value})\n",
    "    # sample statement\n",
    "    if e[0] == 'sample':\n",
    "        dist = evaluate(e[1], l)[0]\n",
    "        # make sure it is a distribution object\n",
    "        assert getattr(dist, '__module__', None).split('.')[:2] == ['torch', 'distributions']\n",
    "        return dist.sample(), sig\n",
    "    # procedure call, either primitive or user-defined\n",
    "    else:\n",
    "        proc, sig = evaluate(e[0], l)\n",
    "        # primitives are functions\n",
    "        if callable(proc):\n",
    "            args = [evaluate(arg, l)[0] for arg in e[1:]]\n",
    "            result, sig = proc(*args), sig\n",
    "            return result, sig\n",
    "        # user defined functions are not\n",
    "        else:\n",
    "            # as written in algorithm 6\n",
    "            v_is, e0 = proc \n",
    "            assert(len(v_is) == len(e[1:]))\n",
    "            c_is = [evaluate(arg, l)[0] for arg in e[1:]]\n",
    "            l_proc = dict(zip(v_is, c_is))\n",
    "            return evaluate(e0, {**l, **l_proc})"
   ]
  },
  {
   "cell_type": "code",
   "execution_count": 119,
   "id": "a1852f59",
   "metadata": {},
   "outputs": [
    {
     "data": {
      "text/plain": [
       "tensor(5.8329)"
      ]
     },
     "execution_count": 119,
     "metadata": {},
     "output_type": "execute_result"
    }
   ],
   "source": [
    "evaluate_program([['sample', ['normal', 5, ['sqrt', 2]]]])"
   ]
  },
  {
   "cell_type": "code",
   "execution_count": 120,
   "id": "749cf809",
   "metadata": {},
   "outputs": [],
   "source": [
    "my_samples = []\n",
    "for i in range(10000):\n",
    "    my_samples.append(evaluate_program([['defn', 'get-sig', ['var'], ['*', 'var', 'var']], ['sample', ['normal', 0, ['get-sig', 1.2]]]]))"
   ]
  },
  {
   "cell_type": "code",
   "execution_count": 121,
   "id": "2124e4b7",
   "metadata": {},
   "outputs": [],
   "source": [
    "their_samples = []\n",
    "import math\n",
    "dist = torch.distributions.Normal(torch.tensor(0.0), torch.tensor(1.2*1.2))\n"
   ]
  },
  {
   "cell_type": "code",
   "execution_count": 122,
   "id": "3612e303",
   "metadata": {},
   "outputs": [],
   "source": [
    "for i in range(10000):\n",
    "    their_samples.append(dist.sample())"
   ]
  },
  {
   "cell_type": "code",
   "execution_count": 123,
   "id": "aadbfd9e",
   "metadata": {},
   "outputs": [],
   "source": [
    "import matplotlib.pyplot as plt"
   ]
  },
  {
   "cell_type": "code",
   "execution_count": 124,
   "id": "decdd651",
   "metadata": {},
   "outputs": [
    {
     "data": {
      "text/plain": [
       "(array([   5.,   69.,  352., 1306., 2766., 2990., 1756.,  646.,  101.,\n",
       "           9.]),\n",
       " array([-5.907432  , -4.7663736 , -3.6253154 , -2.4842572 , -1.3431989 ,\n",
       "        -0.20214057,  0.93891776,  2.079976  ,  3.2210343 ,  4.3620925 ,\n",
       "         5.503151  ], dtype=float32),\n",
       " <BarContainer object of 10 artists>)"
      ]
     },
     "execution_count": 124,
     "metadata": {},
     "output_type": "execute_result"
    },
    {
     "data": {
      "image/png": "[encoded data removed]",
      "text/plain": [
       "<Figure size 432x288 with 1 Axes>"
      ]
     },
     "metadata": {
      "needs_background": "light"
     },
     "output_type": "display_data"
    }
   ],
   "source": [
    "plt.hist(torch.tensor(my_samples).numpy())"
   ]
  },
  {
   "cell_type": "code",
   "execution_count": 125,
   "id": "1a877b12",
   "metadata": {},
   "outputs": [
    {
     "data": {
      "text/plain": [
       "(array([  13.,  116.,  514., 1409., 2421., 2725., 1878.,  729.,  172.,\n",
       "          23.]),\n",
       " array([-5.356398  , -4.3165536 , -3.276709  , -2.2368643 , -1.1970198 ,\n",
       "        -0.1571753 ,  0.88266927,  1.9225138 ,  2.9623585 ,  4.002203  ,\n",
       "         5.0420475 ], dtype=float32),\n",
       " <BarContainer object of 10 artists>)"
      ]
     },
     "execution_count": 125,
     "metadata": {},
     "output_type": "execute_result"
    },
    {
     "data": {
      "image/png": "[encoded data removed]",
      "text/plain": [
       "<Figure size 432x288 with 1 Axes>"
      ]
     },
     "metadata": {
      "needs_background": "light"
     },
     "output_type": "display_data"
    }
   ],
   "source": [
    "plt.hist(torch.tensor(their_samples).numpy())"
   ]
  },
  {
   "cell_type": "code",
   "execution_count": 118,
   "id": "b069d85a",
   "metadata": {},
   "outputs": [
    {
     "data": {
      "text/plain": [
       "[['let',\n",
       "  ['z', ['sample', ['uniform', 0, 1]]],\n",
       "  ['let',\n",
       "   ['mu', ['if', ['<', 'z', 0.1], -1, 1]],\n",
       "   ['sample', ['normal', 'mu', ['sqrt', 0.09]]]]]]"
      ]
     },
     "execution_count": 118,
     "metadata": {},
     "output_type": "execute_result"
    }
   ],
   "source": [
    "[['let', ['z', ['sample', ['uniform', 0, 1]]],\n",
    "  ['let', ['mu', ['if', ['<', 'z', 0.1], -1, 1]],\n",
    "   ['sample', ['normal', 'mu', ['sqrt', 0.09]]]]]]"
   ]
  },
  {
   "cell_type": "code",
   "execution_count": null,
   "id": "fe1b4630",
   "metadata": {},
   "outputs": [],
   "source": []
  },
  {
   "cell_type": "code",
   "execution_count": null,
   "id": "5ab0746e",
   "metadata": {},
   "outputs": [],
   "source": []
  },
  {
   "cell_type": "code",
   "execution_count": null,
   "id": "1e43c5af",
   "metadata": {},
   "outputs": [],
   "source": []
  },
  {
   "cell_type": "code",
   "execution_count": null,
   "id": "7013e7ee",
   "metadata": {},
   "outputs": [],
   "source": []
  },
  {
   "cell_type": "code",
   "execution_count": null,
   "id": "65f9a2ee",
   "metadata": {},
   "outputs": [],
   "source": []
  },
  {
   "cell_type": "code",
   "execution_count": null,
   "id": "837615fb",
   "metadata": {},
   "outputs": [],
   "source": []
  },
  {
   "cell_type": "code",
   "execution_count": null,
   "id": "bb5fe0ab",
   "metadata": {},
   "outputs": [],
   "source": []
  },
  {
   "cell_type": "code",
   "execution_count": null,
   "id": "546878b5",
   "metadata": {},
   "outputs": [],
   "source": []
  }
 ],
 "metadata": {
  "kernelspec": {
   "display_name": "Python 3 (ipykernel)",
   "language": "python",
   "name": "python3"
  },
  "language_info": {
   "codemirror_mode": {
    "name": "ipython",
    "version": 3
   },
   "file_extension": ".py",
   "mimetype": "text/x-python",
   "name": "python",
   "nbconvert_exporter": "python",
   "pygments_lexer": "ipython3",
   "version": "3.8.5"
  }
 },
 "nbformat": 4,
 "nbformat_minor": 5
}
