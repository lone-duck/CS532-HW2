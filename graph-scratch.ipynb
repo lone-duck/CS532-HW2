{
 "cells": [
  {
   "cell_type": "code",
   "execution_count": 1,
   "id": "9cc259e5",
   "metadata": {},
   "outputs": [],
   "source": [
    "import torch\n",
    "import torch.distributions as dist\n",
    "\n",
    "from daphne import daphne\n",
    "\n",
    "#from primitives import funcprimitives #TODO\n",
    "from tests import is_tol, run_prob_test,load_truth "
   ]
  },
  {
   "cell_type": "code",
   "execution_count": 38,
   "id": "36d7638f",
   "metadata": {},
   "outputs": [
    {
     "name": "stdout",
     "output_type": "stream",
     "text": [
      "[{'observe-data': ['fn', ['_', 'data', 'slope', 'bias'], ['let', ['xn', ['first', 'data']], ['let', ['yn', ['second', 'data']], ['let', ['zn', ['+', ['*', 'slope', 'xn'], 'bias']], ['let', ['dontcare9', ['observe', ['normal', 'zn', 1.0], 'yn']], ['rest', ['rest', 'data']]]]]]]}, {'V': ['observe3', 'observe6', 'observe4', 'observe7', 'sample2', 'sample1', 'observe8', 'observe5'], 'A': {'sample2': ['observe3', 'observe6', 'observe4', 'observe7', 'observe8', 'observe5'], 'sample1': ['observe3', 'observe6', 'observe4', 'observe7', 'observe8', 'observe5']}, 'P': {'sample1': ['sample*', ['normal', 0.0, 10.0]], 'sample2': ['sample*', ['normal', 0.0, 10.0]], 'observe3': ['observe*', ['normal', ['+', ['*', 'sample1', 1.0], 'sample2'], 1.0], 2.1], 'observe4': ['observe*', ['normal', ['+', ['*', 'sample1', 2.0], 'sample2'], 1.0], 3.9], 'observe5': ['observe*', ['normal', ['+', ['*', 'sample1', 3.0], 'sample2'], 1.0], 5.3], 'observe6': ['observe*', ['normal', ['+', ['*', 'sample1', 4.0], 'sample2'], 1.0], 7.7], 'observe7': ['observe*', ['normal', ['+', ['*', 'sample1', 5.0], 'sample2'], 1.0], 10.2], 'observe8': ['observe*', ['normal', ['+', ['*', 'sample1', 6.0], 'sample2'], 1.0], 12.9]}, 'Y': {'observe3': 2.1, 'observe4': 3.9, 'observe5': 5.3, 'observe6': 7.7, 'observe7': 10.2, 'observe8': 12.9}}, ['vector', 'sample1', 'sample2']]\n"
     ]
    }
   ],
   "source": [
    "i = 3 \n",
    "graph = [{'observe-data': ['fn', ['_', 'data', 'slope', 'bias'], ['let', ['xn', ['first', 'data']], ['let', ['yn', ['second', 'data']], ['let', ['zn', ['+', ['*', 'slope', 'xn'], 'bias']], ['let', ['dontcare9', ['observe', ['normal', 'zn', 1.0], 'yn']], ['rest', ['rest', 'data']]]]]]]}, {'V': ['observe3', 'observe6', 'observe4', 'observe7', 'sample2', 'sample1', 'observe8', 'observe5'], 'A': {'sample2': ['observe3', 'observe6', 'observe4', 'observe7', 'observe8', 'observe5'], 'sample1': ['observe3', 'observe6', 'observe4', 'observe7', 'observe8', 'observe5']}, 'P': {'sample1': ['sample*', ['normal', 0.0, 10.0]], 'sample2': ['sample*', ['normal', 0.0, 10.0]], 'observe3': ['observe*', ['normal', ['+', ['*', 'sample1', 1.0], 'sample2'], 1.0], 2.1], 'observe4': ['observe*', ['normal', ['+', ['*', 'sample1', 2.0], 'sample2'], 1.0], 3.9], 'observe5': ['observe*', ['normal', ['+', ['*', 'sample1', 3.0], 'sample2'], 1.0], 5.3], 'observe6': ['observe*', ['normal', ['+', ['*', 'sample1', 4.0], 'sample2'], 1.0], 7.7], 'observe7': ['observe*', ['normal', ['+', ['*', 'sample1', 5.0], 'sample2'], 1.0], 10.2], 'observe8': ['observe*', ['normal', ['+', ['*', 'sample1', 6.0], 'sample2'], 1.0], 12.9]}, 'Y': {'observe3': 2.1, 'observe4': 3.9, 'observe5': 5.3, 'observe6': 7.7, 'observe7': 10.2, 'observe8': 12.9}}, ['vector', 'sample1', 'sample2']]\n",
    "\n",
    "print(graph)"
   ]
  },
  {
   "cell_type": "code",
   "execution_count": 39,
   "id": "7066b858",
   "metadata": {},
   "outputs": [],
   "source": [
    "fn_defs = graph[0]\n",
    "V = graph[1]['V']\n",
    "A = graph[1]['A']\n",
    "P = graph[1]['P']\n",
    "Y = graph[1]['Y']\n",
    "ret_vals = graph[2]"
   ]
  },
  {
   "cell_type": "code",
   "execution_count": 40,
   "id": "adfad3ae",
   "metadata": {},
   "outputs": [
    {
     "name": "stdout",
     "output_type": "stream",
     "text": [
      "['observe3', 'observe6', 'observe4', 'observe7', 'sample2', 'sample1', 'observe8', 'observe5']\n"
     ]
    }
   ],
   "source": [
    "print(V)"
   ]
  },
  {
   "cell_type": "code",
   "execution_count": 45,
   "id": "6a7592a5",
   "metadata": {},
   "outputs": [],
   "source": [
    "def topological_sort(A, V):\n",
    "    visited = {v:False for v in V}\n",
    "    stack = []\n",
    "    \n",
    "    for v in V:\n",
    "        if visited[v] == False:\n",
    "            topo_sort_util(v, A, V, visited, stack)\n",
    "            \n",
    "    return stack\n",
    "\n",
    "def topo_sort_util(v, A, V, visited, stack):\n",
    "    \n",
    "    visited[v] = True\n",
    "    \n",
    "    if v in A:\n",
    "        for adj_v in A[v]:\n",
    "            if visited[adj_v] == False:\n",
    "                topo_sort_util(adj_v, A, V, visited, stack)\n",
    "            \n",
    "    stack.insert(0, v)\n",
    "    "
   ]
  },
  {
   "cell_type": "code",
   "execution_count": 46,
   "id": "4892abd9",
   "metadata": {},
   "outputs": [
    {
     "name": "stdout",
     "output_type": "stream",
     "text": [
      "['sample1', 'sample2', 'observe5', 'observe8', 'observe7', 'observe4', 'observe6', 'observe3']\n"
     ]
    }
   ],
   "source": [
    "print(topological_sort(A, V))"
   ]
  },
  {
   "cell_type": "code",
   "execution_count": 48,
   "id": "3d659e74",
   "metadata": {},
   "outputs": [
    {
     "name": "stdout",
     "output_type": "stream",
     "text": [
      "sample1\n",
      "['sample*', ['normal', 0.0, 10.0]]\n",
      "\n",
      "\n",
      "\n",
      "sample2\n",
      "['sample*', ['normal', 0.0, 10.0]]\n",
      "\n",
      "\n",
      "\n",
      "observe5\n",
      "['observe*', ['normal', ['+', ['*', 'sample1', 3.0], 'sample2'], 1.0], 5.3]\n",
      "\n",
      "\n",
      "\n",
      "observe8\n",
      "['observe*', ['normal', ['+', ['*', 'sample1', 6.0], 'sample2'], 1.0], 12.9]\n",
      "\n",
      "\n",
      "\n",
      "observe7\n",
      "['observe*', ['normal', ['+', ['*', 'sample1', 5.0], 'sample2'], 1.0], 10.2]\n",
      "\n",
      "\n",
      "\n",
      "observe4\n",
      "['observe*', ['normal', ['+', ['*', 'sample1', 2.0], 'sample2'], 1.0], 3.9]\n",
      "\n",
      "\n",
      "\n",
      "observe6\n",
      "['observe*', ['normal', ['+', ['*', 'sample1', 4.0], 'sample2'], 1.0], 7.7]\n",
      "\n",
      "\n",
      "\n",
      "observe3\n",
      "['observe*', ['normal', ['+', ['*', 'sample1', 1.0], 'sample2'], 1.0], 2.1]\n",
      "\n",
      "\n",
      "\n"
     ]
    }
   ],
   "source": [
    "sorted_V = topological_sort(A, V)\n",
    "\n",
    "for v in sorted_V:\n",
    "    print(v)\n",
    "    print(P[v])\n",
    "    print(\"\\n\\n\")"
   ]
  },
  {
   "cell_type": "code",
   "execution_count": 52,
   "id": "0aa60341",
   "metadata": {},
   "outputs": [
    {
     "name": "stdout",
     "output_type": "stream",
     "text": [
      "observe-data\n",
      "['fn', ['_', 'data', 'slope', 'bias'], ['let', ['xn', ['first', 'data']], ['let', ['yn', ['second', 'data']], ['let', ['zn', ['+', ['*', 'slope', 'xn'], 'bias']], ['let', ['dontcare9', ['observe', ['normal', 'zn', 1.0], 'yn']], ['rest', ['rest', 'data']]]]]]]\n"
     ]
    }
   ],
   "source": [
    "for item in fn_defs.items():\n",
    "    print(item[0])\n",
    "    print(item[1])"
   ]
  },
  {
   "cell_type": "code",
   "execution_count": 53,
   "id": "14f5d8f4",
   "metadata": {},
   "outputs": [
    {
     "name": "stdout",
     "output_type": "stream",
     "text": [
      "[['defn', 'observe-data', ['_', 'data', 'slope', 'bias'], ['let', ['xn', ['first', 'data']], ['let', ['yn', ['second', 'data']], ['let', ['zn', ['+', ['*', 'slope', 'xn'], 'bias']], ['let', ['dontcare0', ['observe', ['normal', 'zn', 1.0], 'yn']], ['rest', ['rest', 'data']]]]]]], ['let', ['slope', ['sample', ['normal', 0.0, 10.0]]], ['let', ['bias', ['sample', ['normal', 0.0, 10.0]]], ['let', ['data', ['vector', 1.0, 2.1, 2.0, 3.9, 3.0, 5.3, 4.0, 7.7, 5.0, 10.2, 6.0, 12.9]], ['let', ['dontcare1', ['let', ['a2', 'slope'], ['let', ['a3', 'bias'], ['let', ['acc4', ['observe-data', 0, 'data', 'a2', 'a3']], ['let', ['acc5', ['observe-data', 1, 'acc4', 'a2', 'a3']], ['let', ['acc6', ['observe-data', 2, 'acc5', 'a2', 'a3']], ['let', ['acc7', ['observe-data', 3, 'acc6', 'a2', 'a3']], ['let', ['acc8', ['observe-data', 4, 'acc7', 'a2', 'a3']], ['let', ['acc9', ['observe-data', 5, 'acc8', 'a2', 'a3']], 'acc9']]]]]]]]], ['vector', 'slope', 'bias']]]]]]\n"
     ]
    }
   ],
   "source": [
    "i = 2\n",
    "ast = daphne(['desugar', '-i', '../CS532-HW2/programs/{}.daphne'.format(i)])\n",
    "print(ast)"
   ]
  },
  {
   "cell_type": "code",
   "execution_count": 55,
   "id": "c55eba75",
   "metadata": {},
   "outputs": [],
   "source": [
    "defn_ast = ast[0]"
   ]
  },
  {
   "cell_type": "code",
   "execution_count": 56,
   "id": "4eb7cd2f",
   "metadata": {},
   "outputs": [
    {
     "name": "stdout",
     "output_type": "stream",
     "text": [
      "['defn', 'observe-data', ['_', 'data', 'slope', 'bias'], ['let', ['xn', ['first', 'data']], ['let', ['yn', ['second', 'data']], ['let', ['zn', ['+', ['*', 'slope', 'xn'], 'bias']], ['let', ['dontcare0', ['observe', ['normal', 'zn', 1.0], 'yn']], ['rest', ['rest', 'data']]]]]]]\n"
     ]
    }
   ],
   "source": [
    "print(defn_ast)"
   ]
  },
  {
   "cell_type": "code",
   "execution_count": 57,
   "id": "bc444b85",
   "metadata": {},
   "outputs": [
    {
     "data": {
      "text/plain": [
       "'observe-data'"
      ]
     },
     "execution_count": 57,
     "metadata": {},
     "output_type": "execute_result"
    }
   ],
   "source": [
    "defn_ast[1]"
   ]
  },
  {
   "cell_type": "code",
   "execution_count": 58,
   "id": "49e6ddde",
   "metadata": {},
   "outputs": [
    {
     "data": {
      "text/plain": [
       "['_', 'data', 'slope', 'bias']"
      ]
     },
     "execution_count": 58,
     "metadata": {},
     "output_type": "execute_result"
    }
   ],
   "source": [
    "defn_ast[2]"
   ]
  },
  {
   "cell_type": "code",
   "execution_count": 60,
   "id": "8bf5b760",
   "metadata": {},
   "outputs": [
    {
     "data": {
      "text/plain": [
       "['let',\n",
       " ['xn', ['first', 'data']],\n",
       " ['let',\n",
       "  ['yn', ['second', 'data']],\n",
       "  ['let',\n",
       "   ['zn', ['+', ['*', 'slope', 'xn'], 'bias']],\n",
       "   ['let',\n",
       "    ['dontcare0', ['observe', ['normal', 'zn', 1.0], 'yn']],\n",
       "    ['rest', ['rest', 'data']]]]]]"
      ]
     },
     "execution_count": 60,
     "metadata": {},
     "output_type": "execute_result"
    }
   ],
   "source": [
    "defn_ast[3]"
   ]
  },
  {
   "cell_type": "code",
   "execution_count": 62,
   "id": "2d644cfe",
   "metadata": {},
   "outputs": [
    {
     "name": "stdout",
     "output_type": "stream",
     "text": [
      "('observe-data', ['fn', ['_', 'data', 'slope', 'bias'], ['let', ['xn', ['first', 'data']], ['let', ['yn', ['second', 'data']], ['let', ['zn', ['+', ['*', 'slope', 'xn'], 'bias']], ['let', ['dontcare9', ['observe', ['normal', 'zn', 1.0], 'yn']], ['rest', ['rest', 'data']]]]]]])\n"
     ]
    }
   ],
   "source": [
    "for item in fn_defs.items():\n",
    "    defn_graph = item\n",
    "\n",
    "print(defn_graph)"
   ]
  },
  {
   "cell_type": "code",
   "execution_count": 63,
   "id": "e6d651df",
   "metadata": {},
   "outputs": [
    {
     "data": {
      "text/plain": [
       "2"
      ]
     },
     "execution_count": 63,
     "metadata": {},
     "output_type": "execute_result"
    }
   ],
   "source": [
    "len(defn_graph)"
   ]
  },
  {
   "cell_type": "code",
   "execution_count": 65,
   "id": "697ba913",
   "metadata": {},
   "outputs": [
    {
     "data": {
      "text/plain": [
       "'observe-data'"
      ]
     },
     "execution_count": 65,
     "metadata": {},
     "output_type": "execute_result"
    }
   ],
   "source": [
    "defn_graph[0]"
   ]
  },
  {
   "cell_type": "code",
   "execution_count": 71,
   "id": "beb26727",
   "metadata": {},
   "outputs": [
    {
     "data": {
      "text/plain": [
       "['let',\n",
       " ['xn', ['first', 'data']],\n",
       " ['let',\n",
       "  ['yn', ['second', 'data']],\n",
       "  ['let',\n",
       "   ['zn', ['+', ['*', 'slope', 'xn'], 'bias']],\n",
       "   ['let',\n",
       "    ['dontcare9', ['observe', ['normal', 'zn', 1.0], 'yn']],\n",
       "    ['rest', ['rest', 'data']]]]]]"
      ]
     },
     "execution_count": 71,
     "metadata": {},
     "output_type": "execute_result"
    }
   ],
   "source": [
    "defn_graph[1][2]"
   ]
  },
  {
   "cell_type": "code",
   "execution_count": 72,
   "id": "31669076",
   "metadata": {},
   "outputs": [
    {
     "name": "stdout",
     "output_type": "stream",
     "text": [
      "{'sample1': ['sample*', ['normal', 0.0, 10.0]], 'sample2': ['sample*', ['normal', 0.0, 10.0]], 'observe3': ['observe*', ['normal', ['+', ['*', 'sample1', 1.0], 'sample2'], 1.0], 2.1], 'observe4': ['observe*', ['normal', ['+', ['*', 'sample1', 2.0], 'sample2'], 1.0], 3.9], 'observe5': ['observe*', ['normal', ['+', ['*', 'sample1', 3.0], 'sample2'], 1.0], 5.3], 'observe6': ['observe*', ['normal', ['+', ['*', 'sample1', 4.0], 'sample2'], 1.0], 7.7], 'observe7': ['observe*', ['normal', ['+', ['*', 'sample1', 5.0], 'sample2'], 1.0], 10.2], 'observe8': ['observe*', ['normal', ['+', ['*', 'sample1', 6.0], 'sample2'], 1.0], 12.9]}\n"
     ]
    }
   ],
   "source": [
    "print(P)"
   ]
  },
  {
   "cell_type": "code",
   "execution_count": 86,
   "id": "8c5014a9",
   "metadata": {},
   "outputs": [
    {
     "name": "stdout",
     "output_type": "stream",
     "text": [
      "observe5\n",
      "observe*\n",
      "['normal', ['+', ['*', 'sample1', 3.0], 'sample2'], 1.0]\n",
      "5.3\n"
     ]
    }
   ],
   "source": [
    "i = 2\n",
    "task, expr = P[sorted_V[i]][0], P[sorted_V[i]][1]\n",
    "print(sorted_V[i])\n",
    "print(task)\n",
    "print(expr)\n",
    "print(Y[sorted_V[i]])"
   ]
  },
  {
   "cell_type": "code",
   "execution_count": 80,
   "id": "01e07a6f",
   "metadata": {},
   "outputs": [
    {
     "data": {
      "text/plain": [
       "True"
      ]
     },
     "execution_count": 80,
     "metadata": {},
     "output_type": "execute_result"
    }
   ],
   "source": [
    "task == \"observe*\""
   ]
  },
  {
   "cell_type": "code",
   "execution_count": 87,
   "id": "705f1e5a",
   "metadata": {},
   "outputs": [
    {
     "name": "stdout",
     "output_type": "stream",
     "text": [
      "['vector', 'sample1', 'sample2']\n"
     ]
    }
   ],
   "source": [
    "print(ret_vals)"
   ]
  },
  {
   "cell_type": "code",
   "execution_count": 83,
   "id": "fdd83a7a",
   "metadata": {},
   "outputs": [
    {
     "data": {
      "text/plain": [
       "['+', ['*', 'sample1', 3.0], 'sample2']"
      ]
     },
     "execution_count": 83,
     "metadata": {},
     "output_type": "execute_result"
    }
   ],
   "source": [
    "expr[1]"
   ]
  },
  {
   "cell_type": "markdown",
   "id": "85a0b850",
   "metadata": {},
   "source": [
    "# Test Run"
   ]
  },
  {
   "cell_type": "code",
   "execution_count": 88,
   "id": "bae617cc",
   "metadata": {},
   "outputs": [
    {
     "name": "stdout",
     "output_type": "stream",
     "text": [
      "[{'observe-data': ['fn', ['_', 'data', 'slope', 'bias'], ['let', ['xn', ['first', 'data']], ['let', ['yn', ['second', 'data']], ['let', ['zn', ['+', ['*', 'slope', 'xn'], 'bias']], ['let', ['dontcare9', ['observe', ['normal', 'zn', 1.0], 'yn']], ['rest', ['rest', 'data']]]]]]]}, {'V': ['observe3', 'observe6', 'observe4', 'observe7', 'sample2', 'sample1', 'observe8', 'observe5'], 'A': {'sample2': ['observe3', 'observe6', 'observe4', 'observe7', 'observe8', 'observe5'], 'sample1': ['observe3', 'observe6', 'observe4', 'observe7', 'observe8', 'observe5']}, 'P': {'sample1': ['sample*', ['normal', 0.0, 10.0]], 'sample2': ['sample*', ['normal', 0.0, 10.0]], 'observe3': ['observe*', ['normal', ['+', ['*', 'sample1', 1.0], 'sample2'], 1.0], 2.1], 'observe4': ['observe*', ['normal', ['+', ['*', 'sample1', 2.0], 'sample2'], 1.0], 3.9], 'observe5': ['observe*', ['normal', ['+', ['*', 'sample1', 3.0], 'sample2'], 1.0], 5.3], 'observe6': ['observe*', ['normal', ['+', ['*', 'sample1', 4.0], 'sample2'], 1.0], 7.7], 'observe7': ['observe*', ['normal', ['+', ['*', 'sample1', 5.0], 'sample2'], 1.0], 10.2], 'observe8': ['observe*', ['normal', ['+', ['*', 'sample1', 6.0], 'sample2'], 1.0], 12.9]}, 'Y': {'observe3': 2.1, 'observe4': 3.9, 'observe5': 5.3, 'observe6': 7.7, 'observe7': 10.2, 'observe8': 12.9}}, ['vector', 'sample1', 'sample2']]\n"
     ]
    }
   ],
   "source": [
    "print(graph)"
   ]
  },
  {
   "cell_type": "code",
   "execution_count": 89,
   "id": "bd6dd36e",
   "metadata": {},
   "outputs": [],
   "source": [
    "fn_defs = graph[0]\n",
    "V = graph[1]['V']\n",
    "A = graph[1]['A']\n",
    "P = graph[1]['P']\n",
    "Y = graph[1]['Y']\n",
    "ret_vals = graph[2]"
   ]
  },
  {
   "cell_type": "code",
   "execution_count": 90,
   "id": "bcd513a4",
   "metadata": {},
   "outputs": [],
   "source": [
    "import torch\n",
    "import math\n",
    "import operator as op\n",
    "\n",
    "def pure_hashmap_update(d, k, v):\n",
    "    if isinstance(k, torch.Tensor):\n",
    "        k = k.item()\n",
    "    d2 = d.copy()\n",
    "    d2.update({k:v})\n",
    "    return d2\n",
    "\n",
    "# got a tip from Masoud on this\n",
    "def vector_list_creation(args):\n",
    "    try:\n",
    "        return torch.stack(args)\n",
    "    except:\n",
    "        return args\n",
    "\n",
    "def mat_transpose(args):\n",
    "    if isinstance(args, tuple):\n",
    "        if len(args) == 1:\n",
    "            args = args[0]\n",
    "        else:\n",
    "            assert False, \"Multi-element tuple???\"\n",
    "    try:\n",
    "        return args.t()\n",
    "    except:\n",
    "        assert False, \"whoops\"\n",
    "\n",
    "def mat_repmat(t, i1, i2):\n",
    "    return t.repeat(i1.long().item(), i2.long().item())\n",
    "\n",
    "# inspired by https://norvig.com/lispy.html\n",
    "def eval_env():\n",
    "    env = {}\n",
    "    env.update({\n",
    "        '+': torch.add,\n",
    "        '-': torch.sub,\n",
    "        '*': torch.mul,\n",
    "        '/': torch.div,\n",
    "        '>': torch.gt,\n",
    "        '<': torch.lt,\n",
    "        '>=': torch.ge,\n",
    "        '<=': torch.le, \n",
    "        '=': torch.eq,\n",
    "        'sqrt': torch.sqrt,\n",
    "        'exp': torch.exp,\n",
    "        'mat-tanh': torch.tanh,\n",
    "        'mat-add': torch.add,\n",
    "        'mat-mul': torch.matmul,\n",
    "        'mat-repmat': mat_repmat,\n",
    "        'mat-transpose': lambda *x: mat_transpose(x),\n",
    "        'vector': lambda *x: vector_list_creation(x),\n",
    "        'hash-map': lambda *x : dict(zip([i.item() if isinstance(i, torch.Tensor) else i for i in x[::2]], x[1::2])),\n",
    "        'get': lambda x, y: x[y.long()] if isinstance(x, torch.Tensor) else x[y.item() if isinstance(y, torch.Tensor) else y],\n",
    "        'put': lambda x, y, z: torch.cat((x[:y.long()], torch.tensor([z]), x[y.long()+1:])) if isinstance(x, torch.Tensor) else pure_hashmap_update(x,y,z),\n",
    "        'append' : lambda x, y: torch.cat((x, torch.tensor([y]))),\n",
    "        'first' : lambda x: x[0],\n",
    "        'second': lambda x: x[1],\n",
    "        'rest': lambda x: x[1:],\n",
    "        'last' : lambda x: x[-1],\n",
    "        'remove': lambda x, y : torch.cat((x[:y.long()], x[y.long()+1:])) if isinstance(x, torch.Tensor) else {i:x[i] for i in x if i != y},\n",
    "        'normal': torch.distributions.Normal,\n",
    "        'beta': torch.distributions.beta.Beta,\n",
    "        'exponential': torch.distributions.exponential.Exponential,\n",
    "        'uniform': torch.distributions.uniform.Uniform,\n",
    "        'bernoulli': torch.distributions.bernoulli.Bernoulli,\n",
    "        'discrete': lambda *x: torch.distributions.categorical.Categorical(x[0]) \n",
    "        })\n",
    "\n",
    "\n",
    "    return env\n"
   ]
  },
  {
   "cell_type": "code",
   "execution_count": 97,
   "id": "5f6bb7e4",
   "metadata": {},
   "outputs": [],
   "source": [
    "def deterministic_evaluate(e, l, sig=None):\n",
    "    # variable reference OR procedure OR just a string\n",
    "    if isinstance(e, str):        \n",
    "        # global procedures take precedence over locally defined vars\n",
    "        if e in ENV:\n",
    "            return ENV[e], sig\n",
    "        elif e in l:\n",
    "            return l[e], sig\n",
    "        # could allow for hashmaps with string keys; for debugging setting this to fail\n",
    "        else:\n",
    "            assert False, \"Unknown symbol: {}\".format(e)\n",
    "    # constant number\n",
    "    elif isinstance(e, (int, float)):   \n",
    "        return torch.tensor(float(e)), sig\n",
    "    # if statements\n",
    "    elif e[0] == 'if':\n",
    "        (_, test, conseq, alt) = e\n",
    "        exp = (conseq if deterministic_evaluate(test, l)[0] else alt)\n",
    "        return deterministic_evaluate(exp, l)\n",
    "    # let statements\n",
    "    elif e[0] == 'let':\n",
    "        # get symbol\n",
    "        symbol = e[1][0]\n",
    "        # get value of e1\n",
    "        value, _ = deterministic_evaluate(e[1][1], l)\n",
    "        # evaluate e2 with value \n",
    "        return deterministic_evaluate(e[2], {**l, symbol: value})\n",
    "    # sample statement\n",
    "    if e[0] == 'sample':\n",
    "        dist = deterministic_evaluate(e[1], l)[0]\n",
    "        # make sure it is a distribution object\n",
    "        assert getattr(dist, '__module__', None).split('.')[:2] == ['torch', 'distributions']\n",
    "        return dist.sample(), sig\n",
    "    # obsere statements\n",
    "    # TODO: change this, maybe in this hw or for hw3\n",
    "    if e[0] == 'observe':\n",
    "        dist = deterministic_evaluate(e[1], l)[0] # get dist\n",
    "        y = deterministic_evaluate(e[2], l)[0]    # get observed value\n",
    "        # make sure it is a distribution object\n",
    "        assert getattr(dist, '__module__', None).split('.')[:2] == ['torch', 'distributions']\n",
    "        # TODO: do something with observed value\n",
    "        return dist.sample(), sig\n",
    "    # procedure call, either primitive or user-defined\n",
    "    else:\n",
    "        result = deterministic_evaluate(e[0], l)\n",
    "        proc, sig = result\n",
    "        # primitives are functions\n",
    "        if callable(proc):\n",
    "            args = [deterministic_evaluate(arg, l)[0] for arg in e[1:]]\n",
    "            result, sig = proc(*args), sig\n",
    "            return result, sig\n",
    "        # user defined functions are not\n",
    "        else:\n",
    "            # as written in algorithm 6\n",
    "            v_is, e0 = proc \n",
    "            assert(len(v_is) == len(e[1:]))\n",
    "            c_is = [deterministic_evaluate(arg, l)[0] for arg in e[1:]]\n",
    "            l_proc = dict(zip(v_is, c_is))\n",
    "            return deterministic_evaluate(e0, {**l, **l_proc})"
   ]
  },
  {
   "cell_type": "code",
   "execution_count": 92,
   "id": "17d45b6a",
   "metadata": {},
   "outputs": [],
   "source": [
    "ENV = eval_env()"
   ]
  },
  {
   "cell_type": "code",
   "execution_count": 93,
   "id": "f05eeccf",
   "metadata": {},
   "outputs": [],
   "source": [
    "for defn in fn_defs.items():\n",
    "    f_name = defn[0]\n",
    "    f_v_is = defn[1][1]\n",
    "    f_expr = defn[1][2]\n",
    "    ENV.update({f_name: (f_v_is, f_expr)})"
   ]
  },
  {
   "cell_type": "code",
   "execution_count": 94,
   "id": "4fed011d",
   "metadata": {},
   "outputs": [
    {
     "name": "stdout",
     "output_type": "stream",
     "text": [
      "{'+': <built-in method add of type object at 0x10e802c90>, '-': <built-in method sub of type object at 0x10e802c90>, '*': <built-in method mul of type object at 0x10e802c90>, '/': <built-in method div of type object at 0x10e802c90>, '>': <built-in method gt of type object at 0x10e802c90>, '<': <built-in method lt of type object at 0x10e802c90>, '>=': <built-in method ge of type object at 0x10e802c90>, '<=': <built-in method le of type object at 0x10e802c90>, '=': <built-in method eq of type object at 0x10e802c90>, 'sqrt': <built-in method sqrt of type object at 0x10e802c90>, 'exp': <built-in method exp of type object at 0x10e802c90>, 'mat-tanh': <built-in method tanh of type object at 0x10e802c90>, 'mat-add': <built-in method add of type object at 0x10e802c90>, 'mat-mul': <built-in method matmul of type object at 0x10e802c90>, 'mat-repmat': <function mat_repmat at 0x7ff0e360a1f0>, 'mat-transpose': <function eval_env.<locals>.<lambda> at 0x7ff0e360aa60>, 'vector': <function eval_env.<locals>.<lambda> at 0x7ff0e360ae50>, 'hash-map': <function eval_env.<locals>.<lambda> at 0x7ff0e360a9d0>, 'get': <function eval_env.<locals>.<lambda> at 0x7ff0e360a040>, 'put': <function eval_env.<locals>.<lambda> at 0x7ff0e360a0d0>, 'append': <function eval_env.<locals>.<lambda> at 0x7ff0e3589a60>, 'first': <function eval_env.<locals>.<lambda> at 0x7ff0e35894c0>, 'second': <function eval_env.<locals>.<lambda> at 0x7ff0e3589940>, 'rest': <function eval_env.<locals>.<lambda> at 0x7ff0defc8af0>, 'last': <function eval_env.<locals>.<lambda> at 0x7ff0e3b45040>, 'remove': <function eval_env.<locals>.<lambda> at 0x7ff0e3b45310>, 'normal': <class 'torch.distributions.normal.Normal'>, 'beta': <class 'torch.distributions.beta.Beta'>, 'exponential': <class 'torch.distributions.exponential.Exponential'>, 'uniform': <class 'torch.distributions.uniform.Uniform'>, 'bernoulli': <class 'torch.distributions.bernoulli.Bernoulli'>, 'discrete': <function eval_env.<locals>.<lambda> at 0x7ff0e35baaf0>, 'observe-data': (['_', 'data', 'slope', 'bias'], ['let', ['xn', ['first', 'data']], ['let', ['yn', ['second', 'data']], ['let', ['zn', ['+', ['*', 'slope', 'xn'], 'bias']], ['let', ['dontcare9', ['observe', ['normal', 'zn', 1.0], 'yn']], ['rest', ['rest', 'data']]]]]])}\n"
     ]
    }
   ],
   "source": [
    "print(ENV)"
   ]
  },
  {
   "cell_type": "code",
   "execution_count": 95,
   "id": "1c8f0498",
   "metadata": {},
   "outputs": [],
   "source": [
    "sorted_V = topological_sort(A, V)"
   ]
  },
  {
   "cell_type": "code",
   "execution_count": 101,
   "id": "004f25dd",
   "metadata": {},
   "outputs": [],
   "source": [
    "l = {}\n",
    "for v in sorted_V:\n",
    "    task, expr = P[v][0], P[v][1]\n",
    "    if task == \"sample*\":\n",
    "        dist, _ = deterministic_evaluate(expr, l)\n",
    "        l.update({v: dist.sample()})\n",
    "    # TODO: for now treat observes like samples; fix this later\n",
    "    if task == \"observe*\":\n",
    "        dist, _ = deterministic_evaluate(expr, l)\n",
    "        l.update({v: dist.sample()})"
   ]
  },
  {
   "cell_type": "code",
   "execution_count": 102,
   "id": "249bf240",
   "metadata": {},
   "outputs": [
    {
     "data": {
      "text/plain": [
       "{'sample1': tensor(24.1250),\n",
       " 'sample2': tensor(13.2892),\n",
       " 'observe5': tensor(86.2690),\n",
       " 'observe8': tensor(158.7638),\n",
       " 'observe7': tensor(134.0264),\n",
       " 'observe4': tensor(60.4891),\n",
       " 'observe6': tensor(109.4864),\n",
       " 'observe3': tensor(37.4515)}"
      ]
     },
     "execution_count": 102,
     "metadata": {},
     "output_type": "execute_result"
    }
   ],
   "source": [
    "l"
   ]
  },
  {
   "cell_type": "code",
   "execution_count": 104,
   "id": "3e05a0d6",
   "metadata": {},
   "outputs": [
    {
     "data": {
      "text/plain": [
       "tensor([24.1250, 13.2892])"
      ]
     },
     "execution_count": 104,
     "metadata": {},
     "output_type": "execute_result"
    }
   ],
   "source": [
    "deterministic_evaluate(ret_vals, l)[0]"
   ]
  },
  {
   "cell_type": "code",
   "execution_count": null,
   "id": "9aa3f31c",
   "metadata": {},
   "outputs": [],
   "source": []
  }
 ],
 "metadata": {
  "kernelspec": {
   "display_name": "Python 3 (ipykernel)",
   "language": "python",
   "name": "python3"
  },
  "language_info": {
   "codemirror_mode": {
    "name": "ipython",
    "version": 3
   },
   "file_extension": ".py",
   "mimetype": "text/x-python",
   "name": "python",
   "nbconvert_exporter": "python",
   "pygments_lexer": "ipython3",
   "version": "3.8.5"
  }
 },
 "nbformat": 4,
 "nbformat_minor": 5
}
