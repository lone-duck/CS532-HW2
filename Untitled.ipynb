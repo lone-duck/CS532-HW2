{
 "cells": [
  {
   "cell_type": "code",
   "execution_count": 95,
   "id": "31eb7647",
   "metadata": {},
   "outputs": [],
   "source": [
    "import torch\n",
    "import torch.distributions as dist\n",
    "\n",
    "from daphne import daphne\n",
    "\n",
    "from primitives import eval_env\n",
    "from tests import is_tol, run_prob_test,load_truth\n",
    "\n",
    "ENV = eval_env()\n",
    "\n",
    "def deterministic_evaluate(e, l, sig=None):\n",
    "    # variable reference OR procedure OR just a string\n",
    "    if isinstance(e, str):        \n",
    "        # global procedures take precedence over locally defined vars\n",
    "        if e in ENV:\n",
    "            return ENV[e], sig\n",
    "        elif e in l:\n",
    "            return l[e], sig\n",
    "        # could allow for hashmaps with string keys; for debugging setting this to fail\n",
    "        else:\n",
    "            assert False, \"Unknown symbol: {}\".format(e)\n",
    "    # constant number\n",
    "    elif isinstance(e, (int, float)):   \n",
    "        return torch.tensor(float(e)), sig\n",
    "    # if statements\n",
    "    elif e[0] == 'if':\n",
    "        (_, test, conseq, alt) = e\n",
    "        exp = (conseq if deterministic_evaluate(test, l)[0] else alt)\n",
    "        return deterministic_evaluate(exp, l)\n",
    "    # let statements\n",
    "    elif e[0] == 'let':\n",
    "        # get symbol\n",
    "        symbol = e[1][0]\n",
    "        # get value of e1\n",
    "        value, _ = deterministic_evaluate(e[1][1], l)\n",
    "        # evaluate e2 with value \n",
    "        return deterministic_evaluate(e[2], {**l, symbol: value})\n",
    "    # sample statement\n",
    "    if e[0] == 'sample':\n",
    "        dist = deterministic_evaluate(e[1], l)[0]\n",
    "        # make sure it is a distribution object\n",
    "        assert getattr(dist, '__module__', None).split('.')[:2] == ['torch', 'distributions']\n",
    "        return dist.sample(), sig\n",
    "    # obsere statements\n",
    "    # TODO: change this, maybe in this hw or for hw3\n",
    "    if e[0] == 'observe':\n",
    "        dist = deterministic_evaluate(e[1], l)[0] # get dist\n",
    "        y = deterministic_evaluate(e[2], l)[0]    # get observed value\n",
    "        # make sure it is a distribution object\n",
    "        assert getattr(dist, '__module__', None).split('.')[:2] == ['torch', 'distributions']\n",
    "        # TODO: do something with observed value\n",
    "        return dist.sample(), sig\n",
    "    # procedure call, either primitive or user-defined\n",
    "    else:\n",
    "        result = deterministic_evaluate(e[0], l)\n",
    "        proc, sig = result\n",
    "        # primitives are functions\n",
    "        if callable(proc):\n",
    "            args = [deterministic_evaluate(arg, l)[0] for arg in e[1:]]\n",
    "            result, sig = proc(*args), sig\n",
    "            return result, sig\n",
    "        # user defined functions are not\n",
    "        else:\n",
    "            # as written in algorithm 6\n",
    "            v_is, e0 = proc \n",
    "            assert(len(v_is) == len(e[1:]))\n",
    "            c_is = [deterministic_evaluate(arg, l)[0] for arg in e[1:]]\n",
    "            l_proc = dict(zip(v_is, c_is))\n",
    "            return deterministic_evaluate(e0, {**l, **l_proc})\n",
    "\n",
    "# inspired by https://www.geeksforgeeks.org/python-program-for-topological-sorting/\n",
    "# TODO: update to python 3.9 and use graphlib instead\n",
    "def topological_sort(A, V):\n",
    "    visited = {v:False for v in V}\n",
    "    stack = []\n",
    "    \n",
    "    for v in V:\n",
    "        if visited[v] == False:\n",
    "            topo_sort_util(v, A, V, visited, stack)\n",
    "            \n",
    "    return stack\n",
    "\n",
    "def topo_sort_util(v, A, V, visited, stack):\n",
    "    \n",
    "    visited[v] = True\n",
    "    \n",
    "    if v in A:\n",
    "        for adj_v in A[v]:\n",
    "            if visited[adj_v] == False:\n",
    "                topo_sort_util(adj_v, A, V, visited, stack)\n",
    "            \n",
    "    stack.insert(0, v)\n",
    "\n",
    "\n",
    "\n",
    "def sample_from_joint(graph):\n",
    "    \"\"\"This function does ancestral sampling starting from the prior.\"\"\"\n",
    "    \n",
    "    # get contents of graph\n",
    "    fn_defs = graph[0]\n",
    "    V = graph[1]['V']\n",
    "    A = graph[1]['A']\n",
    "    P = graph[1]['P']\n",
    "    Y = graph[1]['Y']\n",
    "    ret_vals = graph[2]\n",
    "    \n",
    "    # deal with fn_defs\n",
    "    global ENV\n",
    "    ENV = eval_env()\n",
    "    for defn in fn_defs.items():\n",
    "        f_name = defn[0]\n",
    "        f_v_is = defn[1][1]\n",
    "        f_expr = defn[1][2]\n",
    "        ENV.update({f_name: (f_v_is, f_expr)})\n",
    "    \n",
    "    # get sorted V\n",
    "    sorted_V = topological_sort(A, V)\n",
    "\n",
    "    # compute each value in order\n",
    "    l = {}\n",
    "    for v in sorted_V:\n",
    "        task, expr = P[v][0], P[v][1]\n",
    "        if task == \"sample*\":\n",
    "            dist, _ = deterministic_evaluate(expr, l)\n",
    "            l.update({v: dist.sample()})\n",
    "        # TODO: for now treat observes like samples; fix this later\n",
    "        if task == \"observe*\":\n",
    "            dist, _ = deterministic_evaluate(expr, l)\n",
    "            l.update({v: dist.sample()})\n",
    "\n",
    "    return deterministic_evaluate(ret_vals, l)[0]"
   ]
  },
  {
   "cell_type": "markdown",
   "id": "805a3485",
   "metadata": {},
   "source": [
    "# Program 1"
   ]
  },
  {
   "cell_type": "code",
   "execution_count": 96,
   "id": "b9467779",
   "metadata": {},
   "outputs": [],
   "source": [
    "i = 1\n",
    "graph = daphne(['graph','-i','../CS532-HW2/programs/{}.daphne'.format(i)])"
   ]
  },
  {
   "cell_type": "code",
   "execution_count": 97,
   "id": "71e96830",
   "metadata": {},
   "outputs": [
    {
     "name": "stdout",
     "output_type": "stream",
     "text": [
      "tensor(0.2313)\n"
     ]
    }
   ],
   "source": [
    "print(sample_from_joint(graph))"
   ]
  },
  {
   "cell_type": "code",
   "execution_count": 98,
   "id": "2abab8f9",
   "metadata": {},
   "outputs": [],
   "source": [
    "import numpy as np\n",
    "import matplotlib.pyplot as plt"
   ]
  },
  {
   "cell_type": "code",
   "execution_count": 99,
   "id": "19d77bae",
   "metadata": {},
   "outputs": [],
   "source": [
    "results_1 = np.zeros(1000)\n",
    "\n",
    "for i in range(1000):\n",
    "    results_1[i] = sample_from_joint(graph).item()"
   ]
  },
  {
   "cell_type": "code",
   "execution_count": 100,
   "id": "2bc949e5",
   "metadata": {},
   "outputs": [
    {
     "data": {
      "text/plain": [
       "Text(0.5, 1.0, 'Gaussian Unknown Mean Problem (Graph-Based)')"
      ]
     },
     "execution_count": 100,
     "metadata": {},
     "output_type": "execute_result"
    },
    {
     "data": {
      "image/png": "[encoded data removed]",
      "text/plain": [
       "<Figure size 432x288 with 1 Axes>"
      ]
     },
     "metadata": {
      "needs_background": "light"
     },
     "output_type": "display_data"
    }
   ],
   "source": [
    "plt.hist(results_1)\n",
    "plt.xlabel('mu')\n",
    "plt.ylabel('count')\n",
    "plt.title('Gaussian Unknown Mean Problem (Graph-Based)')"
   ]
  },
  {
   "cell_type": "code",
   "execution_count": 101,
   "id": "e6f9d05b",
   "metadata": {},
   "outputs": [
    {
     "name": "stdout",
     "output_type": "stream",
     "text": [
      "0.9660757939815521\n"
     ]
    }
   ],
   "source": [
    "print(np.mean(results_1))"
   ]
  },
  {
   "cell_type": "markdown",
   "id": "723b838a",
   "metadata": {},
   "source": [
    "# Program 2"
   ]
  },
  {
   "cell_type": "code",
   "execution_count": 102,
   "id": "9ce37472",
   "metadata": {},
   "outputs": [],
   "source": [
    "i=2"
   ]
  },
  {
   "cell_type": "code",
   "execution_count": 103,
   "id": "23b2eb90",
   "metadata": {},
   "outputs": [],
   "source": [
    "graph = daphne(['graph','-i','../CS532-HW2/programs/{}.daphne'.format(i)])"
   ]
  },
  {
   "cell_type": "code",
   "execution_count": 104,
   "id": "f1f12cfe",
   "metadata": {},
   "outputs": [
    {
     "name": "stdout",
     "output_type": "stream",
     "text": [
      "tensor([-10.0678,   6.7338])\n"
     ]
    }
   ],
   "source": [
    "print(sample_from_joint(graph))"
   ]
  },
  {
   "cell_type": "code",
   "execution_count": 105,
   "id": "61424602",
   "metadata": {},
   "outputs": [],
   "source": [
    "results_2 = np.zeros((1000,2))\n",
    "\n",
    "for i in range(1000):\n",
    "    results_2[i] = sample_from_joint(graph).numpy()"
   ]
  },
  {
   "cell_type": "code",
   "execution_count": 106,
   "id": "8fa24673",
   "metadata": {},
   "outputs": [
    {
     "data": {
      "text/plain": [
       "array([[ -5.94032192,   5.13508558],\n",
       "       [ -4.50360298,  -5.33316135],\n",
       "       [  7.04302263,   0.63500106],\n",
       "       ...,\n",
       "       [  9.23380566,  -4.2296772 ],\n",
       "       [-13.44706726,  -5.21681118],\n",
       "       [  2.62134266,  12.52916145]])"
      ]
     },
     "execution_count": 106,
     "metadata": {},
     "output_type": "execute_result"
    }
   ],
   "source": [
    "results_2"
   ]
  },
  {
   "cell_type": "code",
   "execution_count": 107,
   "id": "8f588d3e",
   "metadata": {},
   "outputs": [
    {
     "data": {
      "text/plain": [
       "Text(0.5, 1.0, 'Bayesian Linear Regression Problem (slope) (Graph-Based)')"
      ]
     },
     "execution_count": 107,
     "metadata": {},
     "output_type": "execute_result"
    },
    {
     "data": {
      "image/png": "[encoded data removed]",
      "text/plain": [
       "<Figure size 432x288 with 1 Axes>"
      ]
     },
     "metadata": {
      "needs_background": "light"
     },
     "output_type": "display_data"
    }
   ],
   "source": [
    "plt.hist(results_2[:, 0])\n",
    "plt.xlabel('slope')\n",
    "plt.ylabel('count')\n",
    "plt.title('Bayesian Linear Regression Problem (slope) (Graph-Based)')"
   ]
  },
  {
   "cell_type": "code",
   "execution_count": 108,
   "id": "d58ac39a",
   "metadata": {},
   "outputs": [
    {
     "data": {
      "text/plain": [
       "Text(0.5, 1.0, 'Bayesian Linear Regression Problem (bias) (Graph-Based)')"
      ]
     },
     "execution_count": 108,
     "metadata": {},
     "output_type": "execute_result"
    },
    {
     "data": {
      "image/png": "[encoded data removed]",
      "text/plain": [
       "<Figure size 432x288 with 1 Axes>"
      ]
     },
     "metadata": {
      "needs_background": "light"
     },
     "output_type": "display_data"
    }
   ],
   "source": [
    "plt.hist(results_2[:, 1])\n",
    "plt.xlabel('bias')\n",
    "plt.ylabel('count')\n",
    "plt.title('Bayesian Linear Regression Problem (bias) (Graph-Based)')"
   ]
  },
  {
   "cell_type": "code",
   "execution_count": 109,
   "id": "d5411ffd",
   "metadata": {},
   "outputs": [
    {
     "data": {
      "text/plain": [
       "array([0.2658596 , 0.02276994])"
      ]
     },
     "execution_count": 109,
     "metadata": {},
     "output_type": "execute_result"
    }
   ],
   "source": [
    "np.mean(results_2, axis=0)"
   ]
  },
  {
   "cell_type": "markdown",
   "id": "bd916d36",
   "metadata": {},
   "source": [
    "# Program 3"
   ]
  },
  {
   "cell_type": "code",
   "execution_count": 110,
   "id": "3a170846",
   "metadata": {},
   "outputs": [],
   "source": [
    "i=3\n",
    "graph = daphne(['graph','-i','../CS532-HW2/programs/{}.daphne'.format(i)])"
   ]
  },
  {
   "cell_type": "code",
   "execution_count": 111,
   "id": "f004efb7",
   "metadata": {},
   "outputs": [
    {
     "name": "stdout",
     "output_type": "stream",
     "text": [
      "tensor([2, 2, 2, 2, 2, 1, 1, 2, 0, 1, 0, 1, 0, 1, 2, 0, 1])\n"
     ]
    }
   ],
   "source": [
    "print(sample_from_joint(graph))"
   ]
  },
  {
   "cell_type": "code",
   "execution_count": 112,
   "id": "1ce17196",
   "metadata": {},
   "outputs": [],
   "source": [
    "results_3 = np.zeros((1000,17))\n",
    "for i in range(1000):\n",
    "    results_3[i] = sample_from_joint(graph).numpy()"
   ]
  },
  {
   "cell_type": "code",
   "execution_count": 113,
   "id": "5720f238",
   "metadata": {},
   "outputs": [
    {
     "data": {
      "text/plain": [
       "array([[0., 1., 2., ..., 1., 2., 2.],\n",
       "       [1., 2., 2., ..., 2., 2., 2.],\n",
       "       [2., 2., 1., ..., 2., 2., 2.],\n",
       "       ...,\n",
       "       [0., 1., 2., ..., 2., 2., 2.],\n",
       "       [1., 2., 0., ..., 2., 2., 2.],\n",
       "       [0., 2., 2., ..., 2., 2., 0.]])"
      ]
     },
     "execution_count": 113,
     "metadata": {},
     "output_type": "execute_result"
    }
   ],
   "source": [
    "results_3"
   ]
  },
  {
   "cell_type": "code",
   "execution_count": 114,
   "id": "993eec7c",
   "metadata": {},
   "outputs": [
    {
     "data": {
      "text/plain": [
       "Text(0.5, 1.0, 'Hidden Markov Model (dim 0) (Graph-Based)')"
      ]
     },
     "execution_count": 114,
     "metadata": {},
     "output_type": "execute_result"
    },
    {
     "data": {
      "image/png": "[encoded data removed]",
      "text/plain": [
       "<Figure size 432x288 with 1 Axes>"
      ]
     },
     "metadata": {
      "needs_background": "light"
     },
     "output_type": "display_data"
    }
   ],
   "source": [
    "i = 0\n",
    "plt.hist(results_3[:, i])\n",
    "plt.xlabel('dim {}'.format(i))\n",
    "plt.ylabel('count')\n",
    "plt.title('Hidden Markov Model (dim {}) (Graph-Based)'.format(i))"
   ]
  },
  {
   "cell_type": "code",
   "execution_count": 115,
   "id": "4a99be27",
   "metadata": {},
   "outputs": [
    {
     "data": {
      "text/plain": [
       "Text(0.5, 1.0, 'Hidden Markov Model (dim 1) (Graph-Based)')"
      ]
     },
     "execution_count": 115,
     "metadata": {},
     "output_type": "execute_result"
    },
    {
     "data": {
      "image/png": "[encoded data removed]",
      "text/plain": [
       "<Figure size 432x288 with 1 Axes>"
      ]
     },
     "metadata": {
      "needs_background": "light"
     },
     "output_type": "display_data"
    }
   ],
   "source": [
    "i = 1\n",
    "plt.hist(results_3[:, i])\n",
    "plt.xlabel('dim {}'.format(i))\n",
    "plt.ylabel('count')\n",
    "plt.title('Hidden Markov Model (dim {}) (Graph-Based)'.format(i))"
   ]
  },
  {
   "cell_type": "code",
   "execution_count": 116,
   "id": "cf71c56a",
   "metadata": {},
   "outputs": [
    {
     "data": {
      "text/plain": [
       "Text(0.5, 1.0, 'Hidden Markov Model (dim 2) (Graph-Based)')"
      ]
     },
     "execution_count": 116,
     "metadata": {},
     "output_type": "execute_result"
    },
    {
     "data": {
      "image/png": "[encoded data removed]",
      "text/plain": [
       "<Figure size 432x288 with 1 Axes>"
      ]
     },
     "metadata": {
      "needs_background": "light"
     },
     "output_type": "display_data"
    }
   ],
   "source": [
    "i = 2\n",
    "plt.hist(results_3[:, i])\n",
    "plt.xlabel('dim {}'.format(i))\n",
    "plt.ylabel('count')\n",
    "plt.title('Hidden Markov Model (dim {}) (Graph-Based)'.format(i))"
   ]
  },
  {
   "cell_type": "code",
   "execution_count": 117,
   "id": "3b4e7215",
   "metadata": {},
   "outputs": [
    {
     "data": {
      "text/plain": [
       "Text(0.5, 1.0, 'Hidden Markov Model (dim 3) (Graph-Based)')"
      ]
     },
     "execution_count": 117,
     "metadata": {},
     "output_type": "execute_result"
    },
    {
     "data": {
      "image/png": "[encoded data removed]",
      "text/plain": [
       "<Figure size 432x288 with 1 Axes>"
      ]
     },
     "metadata": {
      "needs_background": "light"
     },
     "output_type": "display_data"
    }
   ],
   "source": [
    "i = 3\n",
    "plt.hist(results_3[:, i])\n",
    "plt.xlabel('dim {}'.format(i))\n",
    "plt.ylabel('count')\n",
    "plt.title('Hidden Markov Model (dim {}) (Graph-Based)'.format(i))"
   ]
  },
  {
   "cell_type": "code",
   "execution_count": 118,
   "id": "5b9d53db",
   "metadata": {},
   "outputs": [
    {
     "data": {
      "text/plain": [
       "Text(0.5, 1.0, 'Hidden Markov Model (dim 4) (Graph-Based)')"
      ]
     },
     "execution_count": 118,
     "metadata": {},
     "output_type": "execute_result"
    },
    {
     "data": {
      "image/png": "[encoded data removed]",
      "text/plain": [
       "<Figure size 432x288 with 1 Axes>"
      ]
     },
     "metadata": {
      "needs_background": "light"
     },
     "output_type": "display_data"
    }
   ],
   "source": [
    "i = 4\n",
    "plt.hist(results_3[:, i])\n",
    "plt.xlabel('dim {}'.format(i))\n",
    "plt.ylabel('count')\n",
    "plt.title('Hidden Markov Model (dim {}) (Graph-Based)'.format(i))"
   ]
  },
  {
   "cell_type": "code",
   "execution_count": 119,
   "id": "fe84ae8e",
   "metadata": {},
   "outputs": [
    {
     "data": {
      "text/plain": [
       "Text(0.5, 1.0, 'Hidden Markov Model (dim 5) (Graph-Based)')"
      ]
     },
     "execution_count": 119,
     "metadata": {},
     "output_type": "execute_result"
    },
    {
     "data": {
      "image/png": "[encoded data removed]",
      "text/plain": [
       "<Figure size 432x288 with 1 Axes>"
      ]
     },
     "metadata": {
      "needs_background": "light"
     },
     "output_type": "display_data"
    }
   ],
   "source": [
    "i = 5\n",
    "plt.hist(results_3[:, i])\n",
    "plt.xlabel('dim {}'.format(i))\n",
    "plt.ylabel('count')\n",
    "plt.title('Hidden Markov Model (dim {}) (Graph-Based)'.format(i))"
   ]
  },
  {
   "cell_type": "code",
   "execution_count": 120,
   "id": "97fcae67",
   "metadata": {},
   "outputs": [
    {
     "data": {
      "text/plain": [
       "Text(0.5, 1.0, 'Hidden Markov Model (dim 6) (Graph-Based)')"
      ]
     },
     "execution_count": 120,
     "metadata": {},
     "output_type": "execute_result"
    },
    {
     "data": {
      "image/png": "[encoded data removed]",
      "text/plain": [
       "<Figure size 432x288 with 1 Axes>"
      ]
     },
     "metadata": {
      "needs_background": "light"
     },
     "output_type": "display_data"
    }
   ],
   "source": [
    "i = 6\n",
    "plt.hist(results_3[:, i])\n",
    "plt.xlabel('dim {}'.format(i))\n",
    "plt.ylabel('count')\n",
    "plt.title('Hidden Markov Model (dim {}) (Graph-Based)'.format(i))"
   ]
  },
  {
   "cell_type": "code",
   "execution_count": 121,
   "id": "bdc85b3a",
   "metadata": {},
   "outputs": [
    {
     "data": {
      "text/plain": [
       "Text(0.5, 1.0, 'Hidden Markov Model (dim 7) (Graph-Based)')"
      ]
     },
     "execution_count": 121,
     "metadata": {},
     "output_type": "execute_result"
    },
    {
     "data": {
      "image/png": "[encoded data removed]",
      "text/plain": [
       "<Figure size 432x288 with 1 Axes>"
      ]
     },
     "metadata": {
      "needs_background": "light"
     },
     "output_type": "display_data"
    }
   ],
   "source": [
    "i = 7\n",
    "plt.hist(results_3[:, i])\n",
    "plt.xlabel('dim {}'.format(i))\n",
    "plt.ylabel('count')\n",
    "plt.title('Hidden Markov Model (dim {}) (Graph-Based)'.format(i))"
   ]
  },
  {
   "cell_type": "code",
   "execution_count": 122,
   "id": "c12852e3",
   "metadata": {},
   "outputs": [
    {
     "data": {
      "text/plain": [
       "Text(0.5, 1.0, 'Hidden Markov Model (dim 8) (Graph-Based)')"
      ]
     },
     "execution_count": 122,
     "metadata": {},
     "output_type": "execute_result"
    },
    {
     "data": {
      "image/png": "[encoded data removed]",
      "text/plain": [
       "<Figure size 432x288 with 1 Axes>"
      ]
     },
     "metadata": {
      "needs_background": "light"
     },
     "output_type": "display_data"
    }
   ],
   "source": [
    "i = 8\n",
    "plt.hist(results_3[:, i])\n",
    "plt.xlabel('dim {}'.format(i))\n",
    "plt.ylabel('count')\n",
    "plt.title('Hidden Markov Model (dim {}) (Graph-Based)'.format(i))"
   ]
  },
  {
   "cell_type": "code",
   "execution_count": 123,
   "id": "028c237f",
   "metadata": {},
   "outputs": [
    {
     "data": {
      "text/plain": [
       "Text(0.5, 1.0, 'Hidden Markov Model (dim 9) (Graph-Based)')"
      ]
     },
     "execution_count": 123,
     "metadata": {},
     "output_type": "execute_result"
    },
    {
     "data": {
      "image/png": "[encoded data removed]",
      "text/plain": [
       "<Figure size 432x288 with 1 Axes>"
      ]
     },
     "metadata": {
      "needs_background": "light"
     },
     "output_type": "display_data"
    }
   ],
   "source": [
    "i = 9\n",
    "plt.hist(results_3[:, i])\n",
    "plt.xlabel('dim {}'.format(i))\n",
    "plt.ylabel('count')\n",
    "plt.title('Hidden Markov Model (dim {}) (Graph-Based)'.format(i))"
   ]
  },
  {
   "cell_type": "code",
   "execution_count": 124,
   "id": "ca3e2156",
   "metadata": {},
   "outputs": [
    {
     "data": {
      "text/plain": [
       "Text(0.5, 1.0, 'Hidden Markov Model (dim 10) (Graph-Based)')"
      ]
     },
     "execution_count": 124,
     "metadata": {},
     "output_type": "execute_result"
    },
    {
     "data": {
      "image/png": "[encoded data removed]",
      "text/plain": [
       "<Figure size 432x288 with 1 Axes>"
      ]
     },
     "metadata": {
      "needs_background": "light"
     },
     "output_type": "display_data"
    }
   ],
   "source": [
    "i = 10\n",
    "plt.hist(results_3[:, i])\n",
    "plt.xlabel('dim {}'.format(i))\n",
    "plt.ylabel('count')\n",
    "plt.title('Hidden Markov Model (dim {}) (Graph-Based)'.format(i))"
   ]
  },
  {
   "cell_type": "code",
   "execution_count": 125,
   "id": "dd5f79a5",
   "metadata": {},
   "outputs": [
    {
     "data": {
      "text/plain": [
       "Text(0.5, 1.0, 'Hidden Markov Model (dim 11) (Graph-Based)')"
      ]
     },
     "execution_count": 125,
     "metadata": {},
     "output_type": "execute_result"
    },
    {
     "data": {
      "image/png": "[encoded data removed]",
      "text/plain": [
       "<Figure size 432x288 with 1 Axes>"
      ]
     },
     "metadata": {
      "needs_background": "light"
     },
     "output_type": "display_data"
    }
   ],
   "source": [
    "i = 11\n",
    "plt.hist(results_3[:, i])\n",
    "plt.xlabel('dim {}'.format(i))\n",
    "plt.ylabel('count')\n",
    "plt.title('Hidden Markov Model (dim {}) (Graph-Based)'.format(i))"
   ]
  },
  {
   "cell_type": "code",
   "execution_count": 126,
   "id": "a98445df",
   "metadata": {},
   "outputs": [
    {
     "data": {
      "text/plain": [
       "Text(0.5, 1.0, 'Hidden Markov Model (dim 12) (Graph-Based)')"
      ]
     },
     "execution_count": 126,
     "metadata": {},
     "output_type": "execute_result"
    },
    {
     "data": {
      "image/png": "[encoded data removed]",
      "text/plain": [
       "<Figure size 432x288 with 1 Axes>"
      ]
     },
     "metadata": {
      "needs_background": "light"
     },
     "output_type": "display_data"
    }
   ],
   "source": [
    "i = 12\n",
    "plt.hist(results_3[:, i])\n",
    "plt.xlabel('dim {}'.format(i))\n",
    "plt.ylabel('count')\n",
    "plt.title('Hidden Markov Model (dim {}) (Graph-Based)'.format(i))"
   ]
  },
  {
   "cell_type": "code",
   "execution_count": 127,
   "id": "7e893726",
   "metadata": {},
   "outputs": [
    {
     "data": {
      "text/plain": [
       "Text(0.5, 1.0, 'Hidden Markov Model (dim 13) (Graph-Based)')"
      ]
     },
     "execution_count": 127,
     "metadata": {},
     "output_type": "execute_result"
    },
    {
     "data": {
      "image/png": "[encoded data removed]",
      "text/plain": [
       "<Figure size 432x288 with 1 Axes>"
      ]
     },
     "metadata": {
      "needs_background": "light"
     },
     "output_type": "display_data"
    }
   ],
   "source": [
    "i = 13\n",
    "plt.hist(results_3[:, i])\n",
    "plt.xlabel('dim {}'.format(i))\n",
    "plt.ylabel('count')\n",
    "plt.title('Hidden Markov Model (dim {}) (Graph-Based)'.format(i))"
   ]
  },
  {
   "cell_type": "code",
   "execution_count": 128,
   "id": "7641da11",
   "metadata": {},
   "outputs": [
    {
     "data": {
      "text/plain": [
       "Text(0.5, 1.0, 'Hidden Markov Model (dim 14) (Graph-Based)')"
      ]
     },
     "execution_count": 128,
     "metadata": {},
     "output_type": "execute_result"
    },
    {
     "data": {
      "image/png": "[encoded data removed]",
      "text/plain": [
       "<Figure size 432x288 with 1 Axes>"
      ]
     },
     "metadata": {
      "needs_background": "light"
     },
     "output_type": "display_data"
    }
   ],
   "source": [
    "i = 14\n",
    "plt.hist(results_3[:, i])\n",
    "plt.xlabel('dim {}'.format(i))\n",
    "plt.ylabel('count')\n",
    "plt.title('Hidden Markov Model (dim {}) (Graph-Based)'.format(i))"
   ]
  },
  {
   "cell_type": "code",
   "execution_count": 129,
   "id": "443982a6",
   "metadata": {},
   "outputs": [
    {
     "data": {
      "text/plain": [
       "Text(0.5, 1.0, 'Hidden Markov Model (dim 15) (Graph-Based)')"
      ]
     },
     "execution_count": 129,
     "metadata": {},
     "output_type": "execute_result"
    },
    {
     "data": {
      "image/png": "[encoded data removed]",
      "text/plain": [
       "<Figure size 432x288 with 1 Axes>"
      ]
     },
     "metadata": {
      "needs_background": "light"
     },
     "output_type": "display_data"
    }
   ],
   "source": [
    "i = 15\n",
    "plt.hist(results_3[:, i])\n",
    "plt.xlabel('dim {}'.format(i))\n",
    "plt.ylabel('count')\n",
    "plt.title('Hidden Markov Model (dim {}) (Graph-Based)'.format(i))"
   ]
  },
  {
   "cell_type": "code",
   "execution_count": 130,
   "id": "12ac45e2",
   "metadata": {},
   "outputs": [
    {
     "data": {
      "text/plain": [
       "Text(0.5, 1.0, 'Hidden Markov Model (dim 16) (Graph-Based)')"
      ]
     },
     "execution_count": 130,
     "metadata": {},
     "output_type": "execute_result"
    },
    {
     "data": {
      "image/png": "[encoded data removed]",
      "text/plain": [
       "<Figure size 432x288 with 1 Axes>"
      ]
     },
     "metadata": {
      "needs_background": "light"
     },
     "output_type": "display_data"
    }
   ],
   "source": [
    "i = 16\n",
    "plt.hist(results_3[:, i])\n",
    "plt.xlabel('dim {}'.format(i))\n",
    "plt.ylabel('count')\n",
    "plt.title('Hidden Markov Model (dim {}) (Graph-Based)'.format(i))"
   ]
  },
  {
   "cell_type": "code",
   "execution_count": 131,
   "id": "b0a3444a",
   "metadata": {},
   "outputs": [
    {
     "data": {
      "text/plain": [
       "array([1.032, 1.419, 1.475, 1.459, 1.492, 1.487, 1.511, 1.495, 1.491,\n",
       "       1.488, 1.47 , 1.47 , 1.485, 1.53 , 1.471, 1.48 , 1.442])"
      ]
     },
     "execution_count": 131,
     "metadata": {},
     "output_type": "execute_result"
    }
   ],
   "source": [
    "np.mean(results_3, axis=0)"
   ]
  },
  {
   "cell_type": "markdown",
   "id": "6d235673",
   "metadata": {},
   "source": [
    "# Program 4"
   ]
  },
  {
   "cell_type": "code",
   "execution_count": 132,
   "id": "0993096b",
   "metadata": {},
   "outputs": [],
   "source": [
    "i=4\n",
    "graph = daphne(['graph','-i','../CS532-HW2/programs/{}.daphne'.format(i)])"
   ]
  },
  {
   "cell_type": "code",
   "execution_count": 133,
   "id": "1d23caa0",
   "metadata": {},
   "outputs": [
    {
     "name": "stdout",
     "output_type": "stream",
     "text": [
      "(tensor([[-0.2799],\n",
      "        [ 0.2819],\n",
      "        [-0.8401],\n",
      "        [-0.2906],\n",
      "        [-1.2902],\n",
      "        [-0.0900],\n",
      "        [-0.1985],\n",
      "        [-2.7301],\n",
      "        [-1.7906],\n",
      "        [ 0.1806]]), tensor([[ 0.4815],\n",
      "        [-0.6421],\n",
      "        [ 0.5077],\n",
      "        [ 0.6136],\n",
      "        [ 0.3994],\n",
      "        [-0.1123],\n",
      "        [-0.8882],\n",
      "        [ 0.2847],\n",
      "        [ 1.2684],\n",
      "        [ 0.7068]]), tensor([[-0.8561, -0.7808,  1.2431,  0.9398,  0.4895, -0.3421,  1.2133,  0.6924,\n",
      "         -1.6469,  0.8855],\n",
      "        [ 0.6747, -1.7201, -0.0082, -1.7936, -0.0130,  1.3255,  0.9985, -0.5426,\n",
      "         -0.6389, -0.1947],\n",
      "        [-0.2248,  0.9291, -0.3347, -1.4794, -0.0540, -0.4657, -0.6160, -0.3555,\n",
      "         -1.8870,  0.3094],\n",
      "        [-1.7861,  1.8621, -0.3623, -0.5139, -0.5931,  1.7339,  0.7833,  1.7077,\n",
      "          0.7129,  0.5647],\n",
      "        [-0.3872,  0.4818, -1.0721,  2.3772,  1.1019, -0.1821,  0.7406,  0.1132,\n",
      "         -1.0759,  0.4791],\n",
      "        [-0.0243, -0.3810,  1.3543,  1.4673, -0.2055, -1.5281, -1.3491, -0.1533,\n",
      "          0.9485, -0.6722],\n",
      "        [-1.1301, -1.4796,  0.0969, -1.4611, -0.1309, -0.3161, -0.8293,  0.4696,\n",
      "         -0.7419, -0.1730],\n",
      "        [-2.7493,  0.5434, -0.2553,  0.6274,  0.3756,  1.0805,  0.7715,  1.0452,\n",
      "         -1.0643, -0.0048],\n",
      "        [-0.8914, -1.0307,  0.4174, -0.3987,  0.4346, -0.1851, -0.1760, -0.6907,\n",
      "         -0.5705, -0.2411],\n",
      "        [ 0.3471, -1.6633,  0.1909,  0.5994,  0.1054, -1.1751,  0.5295,  0.0434,\n",
      "         -2.1585,  0.4616]]), tensor([[ 0.1548],\n",
      "        [ 1.2519],\n",
      "        [ 0.4000],\n",
      "        [-0.5392],\n",
      "        [ 1.6922],\n",
      "        [ 1.0008],\n",
      "        [-0.1246],\n",
      "        [ 0.2681],\n",
      "        [ 0.5032],\n",
      "        [-1.7680]]))\n"
     ]
    }
   ],
   "source": [
    "print(sample_from_joint(graph))"
   ]
  },
  {
   "cell_type": "code",
   "execution_count": 134,
   "id": "bd5d031c",
   "metadata": {},
   "outputs": [],
   "source": [
    "results_4_1 = np.zeros((1000, 10))\n",
    "results_4_2 = np.zeros((1000, 10))\n",
    "results_4_3 = np.zeros((1000, 100))\n",
    "results_4_4 = np.zeros((1000, 10))\n",
    "\n",
    "for i in range(1000):\n",
    "    result = sample_from_joint(graph)\n",
    "    results_4_1[i] = result[0].flatten().numpy()\n",
    "    results_4_2[i] = result[1].flatten().numpy()\n",
    "    results_4_3[i] = result[2].flatten().numpy()\n",
    "    results_4_4[i] = result[3].flatten().numpy()"
   ]
  },
  {
   "cell_type": "code",
   "execution_count": 135,
   "id": "c1951f27",
   "metadata": {},
   "outputs": [
    {
     "data": {
      "text/plain": [
       "Text(0.5, 1.0, 'Bayesian Neural Network (W0, dim0) (Graph-Based)')"
      ]
     },
     "execution_count": 135,
     "metadata": {},
     "output_type": "execute_result"
    },
    {
     "data": {
      "image/png": "[encoded data removed]",
      "text/plain": [
       "<Figure size 432x288 with 1 Axes>"
      ]
     },
     "metadata": {
      "needs_background": "light"
     },
     "output_type": "display_data"
    }
   ],
   "source": [
    "i = 0\n",
    "plt.hist(results_4_1[:, i])\n",
    "plt.xlabel('W0: dim {}'.format(i))\n",
    "plt.ylabel('count')\n",
    "plt.title('Bayesian Neural Network (W0, dim0) (Graph-Based)')"
   ]
  },
  {
   "cell_type": "code",
   "execution_count": 136,
   "id": "e56dd56e",
   "metadata": {},
   "outputs": [
    {
     "data": {
      "text/plain": [
       "Text(0.5, 1.0, 'Bayesian Neural Network (b0, dim0) (Graph-Based)')"
      ]
     },
     "execution_count": 136,
     "metadata": {},
     "output_type": "execute_result"
    },
    {
     "data": {
      "image/png": "[encoded data removed]",
      "text/plain": [
       "<Figure size 432x288 with 1 Axes>"
      ]
     },
     "metadata": {
      "needs_background": "light"
     },
     "output_type": "display_data"
    }
   ],
   "source": [
    "i = 0\n",
    "plt.hist(results_4_2[:, i])\n",
    "plt.xlabel('b0: dim {}'.format(i))\n",
    "plt.ylabel('count')\n",
    "plt.title('Bayesian Neural Network (b0, dim0) (Graph-Based)')"
   ]
  },
  {
   "cell_type": "code",
   "execution_count": 137,
   "id": "c545fc20",
   "metadata": {},
   "outputs": [
    {
     "data": {
      "text/plain": [
       "Text(0.5, 1.0, 'Bayesian Neural Network (W1, dim0) (Graph-Based)')"
      ]
     },
     "execution_count": 137,
     "metadata": {},
     "output_type": "execute_result"
    },
    {
     "data": {
      "image/png": "[encoded data removed]",
      "text/plain": [
       "<Figure size 432x288 with 1 Axes>"
      ]
     },
     "metadata": {
      "needs_background": "light"
     },
     "output_type": "display_data"
    }
   ],
   "source": [
    "i = 0\n",
    "plt.hist(results_4_3[:, i])\n",
    "plt.xlabel('W1: dim {}'.format(i))\n",
    "plt.ylabel('count')\n",
    "plt.title('Bayesian Neural Network (W1, dim0) (Graph-Based)')"
   ]
  },
  {
   "cell_type": "code",
   "execution_count": 138,
   "id": "fd88eabd",
   "metadata": {},
   "outputs": [
    {
     "data": {
      "text/plain": [
       "Text(0.5, 1.0, 'Bayesian Neural Network (b1, dim0) (Graph-Based)')"
      ]
     },
     "execution_count": 138,
     "metadata": {},
     "output_type": "execute_result"
    },
    {
     "data": {
      "image/png": "[encoded data removed]",
      "text/plain": [
       "<Figure size 432x288 with 1 Axes>"
      ]
     },
     "metadata": {
      "needs_background": "light"
     },
     "output_type": "display_data"
    }
   ],
   "source": [
    "i = 0\n",
    "plt.hist(results_4_4[:, i])\n",
    "plt.xlabel('b1: dim {}'.format(i))\n",
    "plt.ylabel('count')\n",
    "plt.title('Bayesian Neural Network (b1, dim0) (Graph-Based)')"
   ]
  },
  {
   "cell_type": "code",
   "execution_count": 139,
   "id": "b35017a4",
   "metadata": {},
   "outputs": [
    {
     "data": {
      "text/plain": [
       "array([-0.00820911, -0.00920801,  0.03320149,  0.0080827 ,  0.0281602 ,\n",
       "        0.02916695,  0.01894786, -0.01948426, -0.05731377, -0.01356518])"
      ]
     },
     "execution_count": 139,
     "metadata": {},
     "output_type": "execute_result"
    }
   ],
   "source": [
    "np.mean(results_4_1, axis=0)"
   ]
  },
  {
   "cell_type": "code",
   "execution_count": 140,
   "id": "786c125f",
   "metadata": {},
   "outputs": [
    {
     "data": {
      "text/plain": [
       "array([-0.0170492 ,  0.00686348,  0.00223153, -0.01476183,  0.04391817,\n",
       "        0.01925496, -0.00181611, -0.02776719, -0.01496623, -0.04921616])"
      ]
     },
     "execution_count": 140,
     "metadata": {},
     "output_type": "execute_result"
    }
   ],
   "source": [
    "np.mean(results_4_2, axis=0)"
   ]
  },
  {
   "cell_type": "code",
   "execution_count": 141,
   "id": "17ea7716",
   "metadata": {},
   "outputs": [
    {
     "data": {
      "text/plain": [
       "array([ 0.00913304,  0.02459329,  0.00012573, -0.00835288,  0.00279661,\n",
       "       -0.04184566, -0.00740801, -0.07653768, -0.00975871,  0.03434406,\n",
       "        0.00130515,  0.01956527, -0.0169707 ,  0.08312547,  0.03646435,\n",
       "        0.00074547, -0.04424756, -0.02340736, -0.00318407, -0.00041626,\n",
       "       -0.03583136,  0.01380435, -0.03258794,  0.01354533,  0.04533353,\n",
       "       -0.04784303, -0.01293528, -0.0017026 , -0.02958415, -0.00167288,\n",
       "       -0.06286084, -0.02347636, -0.01544009, -0.03476179, -0.03804705,\n",
       "       -0.0046701 ,  0.00845765, -0.02776599,  0.00093714, -0.04525826,\n",
       "       -0.03985768,  0.03456456, -0.01692696, -0.01294433, -0.0190058 ,\n",
       "       -0.00012728, -0.02864026,  0.04239719, -0.02318671, -0.00766716,\n",
       "       -0.01665666, -0.00854118, -0.01394959,  0.01634205, -0.02457486,\n",
       "        0.0105809 ,  0.04335724, -0.03536156,  0.00154535, -0.0114124 ,\n",
       "       -0.00175294, -0.00918258, -0.05936933,  0.01859117, -0.00969052,\n",
       "        0.02802271, -0.00726266,  0.02258912, -0.06009002, -0.05281415,\n",
       "        0.00329627, -0.00979953, -0.05298946,  0.0179348 , -0.06061991,\n",
       "        0.03333609,  0.02562524,  0.00764143, -0.01281627, -0.04875051,\n",
       "       -0.01186266, -0.03287116,  0.02556191, -0.06290839, -0.07952034,\n",
       "        0.07298258,  0.00666563, -0.04576107, -0.01898113, -0.03416844,\n",
       "       -0.01257923, -0.00533042, -0.00095651,  0.0449951 , -0.03530979,\n",
       "       -0.03040201, -0.00614848, -0.02934582,  0.04970266,  0.04838859])"
      ]
     },
     "execution_count": 141,
     "metadata": {},
     "output_type": "execute_result"
    }
   ],
   "source": [
    "np.mean(results_4_3, axis=0)"
   ]
  },
  {
   "cell_type": "code",
   "execution_count": 142,
   "id": "7b9efe57",
   "metadata": {},
   "outputs": [
    {
     "data": {
      "text/plain": [
       "array([ 0.02274956,  0.00771932,  0.04294464,  0.0085833 , -0.05991193,\n",
       "       -0.06582806, -0.01177579, -0.01234044, -0.01306658, -0.00121055])"
      ]
     },
     "execution_count": 142,
     "metadata": {},
     "output_type": "execute_result"
    }
   ],
   "source": [
    "np.mean(results_4_4, axis=0)"
   ]
  },
  {
   "cell_type": "code",
   "execution_count": 143,
   "id": "a4048eb1",
   "metadata": {},
   "outputs": [
    {
     "data": {
      "text/plain": [
       "array([1.00521329, 0.99239982, 1.02703026, 0.96848722, 1.00941461,\n",
       "       1.00679406, 0.99798461, 1.00101365, 1.02775257, 1.01588493])"
      ]
     },
     "execution_count": 143,
     "metadata": {},
     "output_type": "execute_result"
    }
   ],
   "source": [
    "np.std(results_4_1, axis=0)"
   ]
  },
  {
   "cell_type": "code",
   "execution_count": 144,
   "id": "932fdd2c",
   "metadata": {},
   "outputs": [
    {
     "data": {
      "text/plain": [
       "array([1.00883536, 0.98674809, 0.99897906, 0.95589576, 1.0171392 ,\n",
       "       1.03550079, 1.0273912 , 1.01050762, 1.00574979, 0.99963929])"
      ]
     },
     "execution_count": 144,
     "metadata": {},
     "output_type": "execute_result"
    }
   ],
   "source": [
    "np.std(results_4_2, axis=0)"
   ]
  },
  {
   "cell_type": "code",
   "execution_count": 145,
   "id": "2273969b",
   "metadata": {},
   "outputs": [
    {
     "data": {
      "text/plain": [
       "array([1.02553171, 1.00827448, 0.98082376, 1.02219708, 0.98846624,\n",
       "       0.97118398, 0.9804995 , 0.98986086, 1.00474942, 0.98442047,\n",
       "       1.0187752 , 0.97716108, 0.98044052, 0.97525553, 1.04088483,\n",
       "       1.01390454, 1.02612246, 0.99311292, 1.00306432, 1.03375967,\n",
       "       1.00096475, 1.0111195 , 0.98204618, 0.99847888, 0.99928945,\n",
       "       1.01430405, 1.00922576, 0.9858073 , 1.01477695, 0.95275221,\n",
       "       0.9758225 , 1.04123693, 0.99669166, 1.00221654, 0.96545802,\n",
       "       1.02934104, 0.97977183, 0.99954395, 1.02226916, 1.00771182,\n",
       "       1.02608784, 1.01220591, 1.04440199, 1.021051  , 1.0164601 ,\n",
       "       0.97210664, 0.99855876, 1.00638111, 0.96792417, 0.99981864,\n",
       "       0.97727606, 0.98102524, 0.95659756, 0.97284243, 0.97894934,\n",
       "       1.00457854, 0.96782856, 0.98208959, 0.96855805, 1.02259342,\n",
       "       1.04425495, 1.02330284, 0.99846613, 0.98365706, 1.04756029,\n",
       "       0.98790058, 1.01270673, 0.9986595 , 1.00743746, 0.97800326,\n",
       "       0.97512245, 1.03997318, 0.99029384, 1.02189464, 0.9719707 ,\n",
       "       0.99961237, 1.01480642, 1.00123175, 1.03757346, 1.01749222,\n",
       "       0.99997097, 0.99425732, 1.01836777, 0.97471764, 1.00118958,\n",
       "       0.9733225 , 0.99197327, 0.98355167, 0.96678768, 0.99130495,\n",
       "       1.01547081, 0.9937268 , 0.98702037, 0.98991762, 1.03528237,\n",
       "       1.00652809, 0.97890317, 0.98699742, 1.02188013, 0.95545895])"
      ]
     },
     "execution_count": 145,
     "metadata": {},
     "output_type": "execute_result"
    }
   ],
   "source": [
    "np.std(results_4_3, axis=0)"
   ]
  },
  {
   "cell_type": "code",
   "execution_count": 146,
   "id": "a60439b2",
   "metadata": {},
   "outputs": [
    {
     "data": {
      "text/plain": [
       "array([1.02555674, 0.98581547, 0.95356755, 0.98739413, 1.01966015,\n",
       "       0.99946274, 1.01659718, 0.96006956, 0.98982663, 0.99789216])"
      ]
     },
     "execution_count": 146,
     "metadata": {},
     "output_type": "execute_result"
    }
   ],
   "source": [
    "np.std(results_4_4, axis=0)"
   ]
  },
  {
   "cell_type": "code",
   "execution_count": null,
   "id": "31e46cfc",
   "metadata": {},
   "outputs": [],
   "source": []
  }
 ],
 "metadata": {
  "kernelspec": {
   "display_name": "Python 3 (ipykernel)",
   "language": "python",
   "name": "python3"
  },
  "language_info": {
   "codemirror_mode": {
    "name": "ipython",
    "version": 3
   },
   "file_extension": ".py",
   "mimetype": "text/x-python",
   "name": "python",
   "nbconvert_exporter": "python",
   "pygments_lexer": "ipython3",
   "version": "3.8.5"
  }
 },
 "nbformat": 4,
 "nbformat_minor": 5
}
