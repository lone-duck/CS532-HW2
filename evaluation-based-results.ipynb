{
 "cells": [
  {
   "cell_type": "code",
   "execution_count": 1,
   "id": "980057ff",
   "metadata": {},
   "outputs": [],
   "source": [
    "import torch\n",
    "import math\n",
    "import operator as op\n",
    "\n",
    "def pure_hashmap_update(d, k, v):\n",
    "    if isinstance(k, torch.Tensor):\n",
    "        k = k.item()\n",
    "    d2 = d.copy()\n",
    "    d2.update({k:v})\n",
    "    return d2\n",
    "\n",
    "# got a tip from Masoud on this\n",
    "def vector_list_creation(args):\n",
    "    try:\n",
    "        return torch.stack(args)\n",
    "    except:\n",
    "        return args\n",
    "\n",
    "def mat_transpose(args):\n",
    "    if isinstance(args, tuple):\n",
    "        if len(args) == 1:\n",
    "            args = args[0]\n",
    "        else:\n",
    "            assert False, \"Multi-element tuple???\"\n",
    "    try:\n",
    "        return args.t()\n",
    "    except:\n",
    "        assert False, \"whoops\"\n",
    "\n",
    "def mat_repmat(t, i1, i2):\n",
    "    return t.repeat(i1.long().item(), i2.long().item())\n",
    "\n",
    "# inspired by https://norvig.com/lispy.html\n",
    "def eval_env():\n",
    "    env = {}\n",
    "    env.update({\n",
    "        '+': torch.add,\n",
    "        '-': torch.sub,\n",
    "        '*': torch.mul,\n",
    "        '/': torch.div,\n",
    "        '>': torch.gt,\n",
    "        '<': torch.lt,\n",
    "        '>=': torch.ge,\n",
    "        '<=': torch.le, \n",
    "        '=': torch.eq,\n",
    "        'sqrt': torch.sqrt,\n",
    "        'exp': torch.exp,\n",
    "        'mat-tanh': torch.tanh,\n",
    "        'mat-add': torch.add,\n",
    "        'mat-mul': torch.matmul,\n",
    "        'mat-repmat': mat_repmat,\n",
    "        'mat-transpose': lambda *x: mat_transpose(x),\n",
    "        'vector': lambda *x: vector_list_creation(x),\n",
    "        'hash-map': lambda *x : dict(zip([i.item() if isinstance(i, torch.Tensor) else i for i in x[::2]], x[1::2])),\n",
    "        'get': lambda x, y: x[y.long()] if isinstance(x, torch.Tensor) else x[y.item() if isinstance(y, torch.Tensor) else y],\n",
    "        'put': lambda x, y, z: torch.cat((x[:y.long()], torch.tensor([z]), x[y.long()+1:])) if isinstance(x, torch.Tensor) else pure_hashmap_update(x,y,z),\n",
    "        'append' : lambda x, y: torch.cat((x, torch.tensor([y]))),\n",
    "        'first' : lambda x: x[0],\n",
    "        'second': lambda x: x[1],\n",
    "        'rest': lambda x: x[1:],\n",
    "        'last' : lambda x: x[-1],\n",
    "        'remove': lambda x, y : torch.cat((x[:y.long()], x[y.long()+1:])) if isinstance(x, torch.Tensor) else {i:x[i] for i in x if i != y},\n",
    "        'normal': torch.distributions.Normal,\n",
    "        'beta': torch.distributions.beta.Beta,\n",
    "        'exponential': torch.distributions.exponential.Exponential,\n",
    "        'uniform': torch.distributions.uniform.Uniform,\n",
    "        'bernoulli': torch.distributions.bernoulli.Bernoulli,\n",
    "        'discrete': lambda *x: torch.distributions.categorical.Categorical(x[0]) \n",
    "        })\n",
    "\n",
    "\n",
    "    return env"
   ]
  },
  {
   "cell_type": "code",
   "execution_count": 2,
   "id": "9dbd32f8",
   "metadata": {},
   "outputs": [],
   "source": [
    "from daphne import daphne\n",
    "from tests import is_tol, run_prob_test,load_truth\n",
    "from primitives import eval_env\n",
    "import torch\n",
    "\n",
    "ENV = None\n",
    "\n",
    "def evaluate_program(ast, return_sig=False):\n",
    "    \"\"\"Evaluate a program as desugared by daphne, generate a sample from the prior\n",
    "    Args:\n",
    "        ast: json FOPPL program\n",
    "    Returns: sample from the prior of ast\n",
    "    \"\"\"\n",
    "    global ENV\n",
    "    ENV = eval_env()\n",
    "    for defn in ast[:-1]:\n",
    "        f_name = defn[1]\n",
    "        f_v_is = defn[2]\n",
    "        f_expr = defn[3]\n",
    "        ENV.update({f_name: (f_v_is, f_expr)})\n",
    "    l = {}\n",
    "    ret, sig = evaluate(ast[-1], l)\n",
    "    return (ret, sig) if return_sig else ret\n",
    "\n",
    "# inspired by https://norvig.com/lispy.html\n",
    "def evaluate(e, l, sig=None):\n",
    "    # variable reference OR procedure OR just a string\n",
    "    if isinstance(e, str):        \n",
    "        # global procedures take precedence over locally defined vars\n",
    "        if e in ENV:\n",
    "            return ENV[e], sig\n",
    "        elif e in l:\n",
    "            return l[e], sig\n",
    "        # allows for hashmaps with string keys; for debugging setting this to fail\n",
    "        else:\n",
    "            assert False, \"Unknown symbol: {}\".format(e)\n",
    "            return e\n",
    "    # constant number\n",
    "    elif isinstance(e, (int, float)):   \n",
    "        return torch.tensor(float(e)), sig\n",
    "    # if statements\n",
    "    elif e[0] == 'if':\n",
    "        (_, test, conseq, alt) = e\n",
    "        exp = (conseq if evaluate(test, l)[0] else alt)\n",
    "        return evaluate(exp, l)\n",
    "    # let statements\n",
    "    elif e[0] == 'let':\n",
    "        # get symbol\n",
    "        symbol = e[1][0]\n",
    "        # get value of e1\n",
    "        value, _ = evaluate(e[1][1], l)\n",
    "        # evaluate e2 with value \n",
    "        return evaluate(e[2], {**l, symbol: value})\n",
    "    # sample statement\n",
    "    if e[0] == 'sample':\n",
    "        dist = evaluate(e[1], l)[0]\n",
    "        # make sure it is a distribution object\n",
    "        assert getattr(dist, '__module__', None).split('.')[:2] == ['torch', 'distributions']\n",
    "        return dist.sample(), sig\n",
    "    # obsere statements\n",
    "    # TODO: change this, maybe in this hw or for hw3\n",
    "    if e[0] == 'observe':\n",
    "        dist = evaluate(e[1], l)[0] # get dist\n",
    "        y = evaluate(e[2], l)[0]    # get observed value\n",
    "        # make sure it is a distribution object\n",
    "        assert getattr(dist, '__module__', None).split('.')[:2] == ['torch', 'distributions']\n",
    "        # TODO: do something with observed value\n",
    "        return dist.sample(), sig\n",
    "    # procedure call, either primitive or user-defined\n",
    "    else:\n",
    "        result = evaluate(e[0], l)\n",
    "        proc, sig = result\n",
    "        # primitives are functions\n",
    "        if callable(proc):\n",
    "            args = [evaluate(arg, l)[0] for arg in e[1:]]\n",
    "            result, sig = proc(*args), sig\n",
    "            return result, sig\n",
    "        # user defined functions are not\n",
    "        else:\n",
    "            # as written in algorithm 6\n",
    "            v_is, e0 = proc \n",
    "            assert(len(v_is) == len(e[1:]))\n",
    "            c_is = [evaluate(arg, l)[0] for arg in e[1:]]\n",
    "            l_proc = dict(zip(v_is, c_is))\n",
    "            return evaluate(e0, {**l, **l_proc})"
   ]
  },
  {
   "cell_type": "markdown",
   "id": "945e7116",
   "metadata": {},
   "source": [
    "# Program 1"
   ]
  },
  {
   "cell_type": "code",
   "execution_count": 30,
   "id": "bd93aa52",
   "metadata": {},
   "outputs": [],
   "source": [
    "i = 1\n",
    "ast = daphne(['desugar', '-i', '../CS532-HW2/programs/{}.daphne'.format(i)])"
   ]
  },
  {
   "cell_type": "code",
   "execution_count": 31,
   "id": "e7bc1189",
   "metadata": {},
   "outputs": [
    {
     "name": "stdout",
     "output_type": "stream",
     "text": [
      "tensor(1.5666)\n"
     ]
    }
   ],
   "source": [
    "print(evaluate_program(ast, return_sig=True)[0])"
   ]
  },
  {
   "cell_type": "code",
   "execution_count": 32,
   "id": "a30ad982",
   "metadata": {},
   "outputs": [],
   "source": [
    "import numpy as np\n",
    "import matplotlib.pyplot as plt"
   ]
  },
  {
   "cell_type": "code",
   "execution_count": 33,
   "id": "03241483",
   "metadata": {},
   "outputs": [],
   "source": [
    "results_1 = np.zeros(1000)\n",
    "\n",
    "for i in range(1000):\n",
    "    results_1[i] = evaluate_program(ast, return_sig=True)[0].item()"
   ]
  },
  {
   "cell_type": "code",
   "execution_count": 34,
   "id": "5c3905bb",
   "metadata": {},
   "outputs": [
    {
     "data": {
      "text/plain": [
       "Text(0.5, 1.0, 'Gaussian Unknown Mean Problem (Evaluation-Based)')"
      ]
     },
     "execution_count": 34,
     "metadata": {},
     "output_type": "execute_result"
    },
    {
     "data": {
      "image/png": "[encoded data removed]",
      "text/plain": [
       "<Figure size 432x288 with 1 Axes>"
      ]
     },
     "metadata": {
      "needs_background": "light"
     },
     "output_type": "display_data"
    }
   ],
   "source": [
    "plt.hist(results_1)\n",
    "plt.xlabel('mu')\n",
    "plt.ylabel('count')\n",
    "plt.title('Gaussian Unknown Mean Problem (Evaluation-Based)')"
   ]
  },
  {
   "cell_type": "code",
   "execution_count": 35,
   "id": "55978c2c",
   "metadata": {},
   "outputs": [
    {
     "name": "stdout",
     "output_type": "stream",
     "text": [
      "0.9831181299090386\n"
     ]
    }
   ],
   "source": [
    "print(np.mean(results_1))"
   ]
  },
  {
   "cell_type": "markdown",
   "id": "cce79c8b",
   "metadata": {},
   "source": [
    "# Program 2"
   ]
  },
  {
   "cell_type": "code",
   "execution_count": 36,
   "id": "187006d3",
   "metadata": {},
   "outputs": [],
   "source": [
    "i=2\n",
    "ast = daphne(['desugar', '-i', '../CS532-HW2/programs/{}.daphne'.format(i)])"
   ]
  },
  {
   "cell_type": "code",
   "execution_count": 37,
   "id": "ed525121",
   "metadata": {},
   "outputs": [
    {
     "name": "stdout",
     "output_type": "stream",
     "text": [
      "tensor([  4.4539, -14.5233])\n"
     ]
    }
   ],
   "source": [
    "print(evaluate_program(ast, return_sig=True)[0])"
   ]
  },
  {
   "cell_type": "code",
   "execution_count": 38,
   "id": "855d14ef",
   "metadata": {},
   "outputs": [],
   "source": [
    "results_2 = np.zeros((1000,2))\n",
    "\n",
    "for i in range(1000):\n",
    "    results_2[i] = evaluate_program(ast, return_sig=True)[0].numpy()"
   ]
  },
  {
   "cell_type": "code",
   "execution_count": 39,
   "id": "cc753c22",
   "metadata": {},
   "outputs": [
    {
     "data": {
      "text/plain": [
       "array([[ -7.07100964,  -5.16104937],\n",
       "       [ 15.34262562,  10.90234756],\n",
       "       [  6.7403059 ,  -1.3948431 ],\n",
       "       ...,\n",
       "       [  0.84671026,  -2.00265455],\n",
       "       [  2.33683586,  -1.21618056],\n",
       "       [  9.04983139, -15.97388744]])"
      ]
     },
     "execution_count": 39,
     "metadata": {},
     "output_type": "execute_result"
    }
   ],
   "source": [
    "results_2"
   ]
  },
  {
   "cell_type": "code",
   "execution_count": 96,
   "id": "de720614",
   "metadata": {},
   "outputs": [
    {
     "data": {
      "text/plain": [
       "Text(0.5, 1.0, 'Bayesian Linear Regression Problem (slope) (Evaluation-Based)')"
      ]
     },
     "execution_count": 96,
     "metadata": {},
     "output_type": "execute_result"
    },
    {
     "data": {
      "image/png": "[encoded data removed]",
      "text/plain": [
       "<Figure size 432x288 with 1 Axes>"
      ]
     },
     "metadata": {
      "needs_background": "light"
     },
     "output_type": "display_data"
    }
   ],
   "source": [
    "plt.hist(results_2[:, 0])\n",
    "plt.xlabel('slope')\n",
    "plt.ylabel('count')\n",
    "plt.title('Bayesian Linear Regression Problem (slope) (Evaluation-Based)')"
   ]
  },
  {
   "cell_type": "code",
   "execution_count": 95,
   "id": "8fbbc8c7",
   "metadata": {},
   "outputs": [
    {
     "data": {
      "text/plain": [
       "Text(0.5, 1.0, 'Bayesian Linear Regression Problem (bias) (Evaluation-Based)')"
      ]
     },
     "execution_count": 95,
     "metadata": {},
     "output_type": "execute_result"
    },
    {
     "data": {
      "image/png": "[encoded data removed]",
      "text/plain": [
       "<Figure size 432x288 with 1 Axes>"
      ]
     },
     "metadata": {
      "needs_background": "light"
     },
     "output_type": "display_data"
    }
   ],
   "source": [
    "plt.hist(results_2[:, 1])\n",
    "plt.xlabel('bias')\n",
    "plt.ylabel('count')\n",
    "plt.title('Bayesian Linear Regression Problem (bias) (Evaluation-Based)')"
   ]
  },
  {
   "cell_type": "code",
   "execution_count": 42,
   "id": "a8ded723",
   "metadata": {},
   "outputs": [
    {
     "data": {
      "text/plain": [
       "array([-0.01206526, -0.26044796])"
      ]
     },
     "execution_count": 42,
     "metadata": {},
     "output_type": "execute_result"
    }
   ],
   "source": [
    "np.mean(results_2, axis=0)"
   ]
  },
  {
   "cell_type": "markdown",
   "id": "c4cadf17",
   "metadata": {},
   "source": [
    "# Program 3"
   ]
  },
  {
   "cell_type": "code",
   "execution_count": 43,
   "id": "5bd483f9",
   "metadata": {},
   "outputs": [],
   "source": [
    "i=3\n",
    "ast = daphne(['desugar', '-i', '../CS532-HW2/programs/{}.daphne'.format(i)])"
   ]
  },
  {
   "cell_type": "code",
   "execution_count": 44,
   "id": "0cb9c77c",
   "metadata": {},
   "outputs": [
    {
     "name": "stdout",
     "output_type": "stream",
     "text": [
      "tensor([2, 1, 2, 2, 2, 2, 0, 0, 2, 2, 2, 0, 1, 2, 2, 2, 1])\n"
     ]
    }
   ],
   "source": [
    "print(evaluate_program(ast, return_sig=True)[0])"
   ]
  },
  {
   "cell_type": "code",
   "execution_count": 45,
   "id": "43df05d6",
   "metadata": {},
   "outputs": [],
   "source": [
    "results_3 = np.zeros((1000,17))\n",
    "for i in range(1000):\n",
    "    results_3[i] = evaluate_program(ast, return_sig=True)[0].numpy()"
   ]
  },
  {
   "cell_type": "code",
   "execution_count": 46,
   "id": "7e379e30",
   "metadata": {},
   "outputs": [
    {
     "data": {
      "text/plain": [
       "array([[1., 0., 1., ..., 0., 2., 2.],\n",
       "       [2., 2., 2., ..., 2., 2., 1.],\n",
       "       [2., 1., 2., ..., 2., 2., 2.],\n",
       "       ...,\n",
       "       [0., 0., 2., ..., 1., 0., 2.],\n",
       "       [1., 2., 0., ..., 2., 1., 0.],\n",
       "       [0., 2., 2., ..., 2., 2., 1.]])"
      ]
     },
     "execution_count": 46,
     "metadata": {},
     "output_type": "execute_result"
    }
   ],
   "source": [
    "results_3"
   ]
  },
  {
   "cell_type": "code",
   "execution_count": 94,
   "id": "0f12a252",
   "metadata": {},
   "outputs": [
    {
     "data": {
      "text/plain": [
       "Text(0.5, 1.0, 'Hidden Markov Model (dim 0) (Evaluation-Based)')"
      ]
     },
     "execution_count": 94,
     "metadata": {},
     "output_type": "execute_result"
    },
    {
     "data": {
      "image/png": "[encoded data removed]",
      "text/plain": [
       "<Figure size 432x288 with 1 Axes>"
      ]
     },
     "metadata": {
      "needs_background": "light"
     },
     "output_type": "display_data"
    }
   ],
   "source": [
    "i = 0\n",
    "plt.hist(results_3[:, i])\n",
    "plt.xlabel('dim {}'.format(i))\n",
    "plt.ylabel('count')\n",
    "plt.title('Hidden Markov Model (dim {}) (Evaluation-Based)'.format(i))"
   ]
  },
  {
   "cell_type": "code",
   "execution_count": 93,
   "id": "799f28ae",
   "metadata": {},
   "outputs": [
    {
     "data": {
      "text/plain": [
       "Text(0.5, 1.0, 'Hidden Markov Model (dim 1) (Evaluation-Based)')"
      ]
     },
     "execution_count": 93,
     "metadata": {},
     "output_type": "execute_result"
    },
    {
     "data": {
      "image/png": "[encoded data removed]",
      "text/plain": [
       "<Figure size 432x288 with 1 Axes>"
      ]
     },
     "metadata": {
      "needs_background": "light"
     },
     "output_type": "display_data"
    }
   ],
   "source": [
    "i = 1\n",
    "plt.hist(results_3[:, i])\n",
    "plt.xlabel('dim {}'.format(i))\n",
    "plt.ylabel('count')\n",
    "plt.title('Hidden Markov Model (dim {}) (Evaluation-Based)'.format(i))"
   ]
  },
  {
   "cell_type": "code",
   "execution_count": 92,
   "id": "53f86e7d",
   "metadata": {},
   "outputs": [
    {
     "data": {
      "text/plain": [
       "Text(0.5, 1.0, 'Hidden Markov Model (dim 2) (Evaluation-Based)')"
      ]
     },
     "execution_count": 92,
     "metadata": {},
     "output_type": "execute_result"
    },
    {
     "data": {
      "image/png": "[encoded data removed]",
      "text/plain": [
       "<Figure size 432x288 with 1 Axes>"
      ]
     },
     "metadata": {
      "needs_background": "light"
     },
     "output_type": "display_data"
    }
   ],
   "source": [
    "i = 2\n",
    "plt.hist(results_3[:, i])\n",
    "plt.xlabel('dim {}'.format(i))\n",
    "plt.ylabel('count')\n",
    "plt.title('Hidden Markov Model (dim {}) (Evaluation-Based)'.format(i))"
   ]
  },
  {
   "cell_type": "code",
   "execution_count": 91,
   "id": "f286cac4",
   "metadata": {},
   "outputs": [
    {
     "data": {
      "text/plain": [
       "Text(0.5, 1.0, 'Hidden Markov Model (dim 3) (Evaluation-Based)')"
      ]
     },
     "execution_count": 91,
     "metadata": {},
     "output_type": "execute_result"
    },
    {
     "data": {
      "image/png": "[encoded data removed]",
      "text/plain": [
       "<Figure size 432x288 with 1 Axes>"
      ]
     },
     "metadata": {
      "needs_background": "light"
     },
     "output_type": "display_data"
    }
   ],
   "source": [
    "i = 3\n",
    "plt.hist(results_3[:, i])\n",
    "plt.xlabel('dim {}'.format(i))\n",
    "plt.ylabel('count')\n",
    "plt.title('Hidden Markov Model (dim {}) (Evaluation-Based)'.format(i))"
   ]
  },
  {
   "cell_type": "code",
   "execution_count": 90,
   "id": "247602dc",
   "metadata": {},
   "outputs": [
    {
     "data": {
      "text/plain": [
       "Text(0.5, 1.0, 'Hidden Markov Model (dim 4) (Evaluation-Based)')"
      ]
     },
     "execution_count": 90,
     "metadata": {},
     "output_type": "execute_result"
    },
    {
     "data": {
      "image/png": "[encoded data removed]",
      "text/plain": [
       "<Figure size 432x288 with 1 Axes>"
      ]
     },
     "metadata": {
      "needs_background": "light"
     },
     "output_type": "display_data"
    }
   ],
   "source": [
    "i = 4\n",
    "plt.hist(results_3[:, i])\n",
    "plt.xlabel('dim {}'.format(i))\n",
    "plt.ylabel('count')\n",
    "plt.title('Hidden Markov Model (dim {}) (Evaluation-Based)'.format(i))"
   ]
  },
  {
   "cell_type": "code",
   "execution_count": 89,
   "id": "f8a14eba",
   "metadata": {},
   "outputs": [
    {
     "data": {
      "text/plain": [
       "Text(0.5, 1.0, 'Hidden Markov Model (dim 5) (Evaluation-Based)')"
      ]
     },
     "execution_count": 89,
     "metadata": {},
     "output_type": "execute_result"
    },
    {
     "data": {
      "image/png": "[encoded data removed]",
      "text/plain": [
       "<Figure size 432x288 with 1 Axes>"
      ]
     },
     "metadata": {
      "needs_background": "light"
     },
     "output_type": "display_data"
    }
   ],
   "source": [
    "i = 5\n",
    "plt.hist(results_3[:, i])\n",
    "plt.xlabel('dim {}'.format(i))\n",
    "plt.ylabel('count')\n",
    "plt.title('Hidden Markov Model (dim {}) (Evaluation-Based)'.format(i))"
   ]
  },
  {
   "cell_type": "code",
   "execution_count": 88,
   "id": "eb6d41ab",
   "metadata": {},
   "outputs": [
    {
     "data": {
      "text/plain": [
       "Text(0.5, 1.0, 'Hidden Markov Model (dim 6) (Evaluation-Based)')"
      ]
     },
     "execution_count": 88,
     "metadata": {},
     "output_type": "execute_result"
    },
    {
     "data": {
      "image/png": "[encoded data removed]",
      "text/plain": [
       "<Figure size 432x288 with 1 Axes>"
      ]
     },
     "metadata": {
      "needs_background": "light"
     },
     "output_type": "display_data"
    }
   ],
   "source": [
    "i = 6\n",
    "plt.hist(results_3[:, i])\n",
    "plt.xlabel('dim {}'.format(i))\n",
    "plt.ylabel('count')\n",
    "plt.title('Hidden Markov Model (dim {}) (Evaluation-Based)'.format(i))"
   ]
  },
  {
   "cell_type": "code",
   "execution_count": 87,
   "id": "078c0737",
   "metadata": {},
   "outputs": [
    {
     "data": {
      "text/plain": [
       "Text(0.5, 1.0, 'Hidden Markov Model (dim 7) (Evaluation-Based)')"
      ]
     },
     "execution_count": 87,
     "metadata": {},
     "output_type": "execute_result"
    },
    {
     "data": {
      "image/png": "[encoded data removed]",
      "text/plain": [
       "<Figure size 432x288 with 1 Axes>"
      ]
     },
     "metadata": {
      "needs_background": "light"
     },
     "output_type": "display_data"
    }
   ],
   "source": [
    "i = 7\n",
    "plt.hist(results_3[:, i])\n",
    "plt.xlabel('dim {}'.format(i))\n",
    "plt.ylabel('count')\n",
    "plt.title('Hidden Markov Model (dim {}) (Evaluation-Based)'.format(i))"
   ]
  },
  {
   "cell_type": "code",
   "execution_count": 86,
   "id": "181f84ab",
   "metadata": {},
   "outputs": [
    {
     "data": {
      "text/plain": [
       "Text(0.5, 1.0, 'Hidden Markov Model (dim 8) (Evaluation-Based)')"
      ]
     },
     "execution_count": 86,
     "metadata": {},
     "output_type": "execute_result"
    },
    {
     "data": {
      "image/png": "[encoded data removed]",
      "text/plain": [
       "<Figure size 432x288 with 1 Axes>"
      ]
     },
     "metadata": {
      "needs_background": "light"
     },
     "output_type": "display_data"
    }
   ],
   "source": [
    "i = 8\n",
    "plt.hist(results_3[:, i])\n",
    "plt.xlabel('dim {}'.format(i))\n",
    "plt.ylabel('count')\n",
    "plt.title('Hidden Markov Model (dim {}) (Evaluation-Based)'.format(i))"
   ]
  },
  {
   "cell_type": "code",
   "execution_count": 85,
   "id": "839d6b88",
   "metadata": {},
   "outputs": [
    {
     "data": {
      "text/plain": [
       "Text(0.5, 1.0, 'Hidden Markov Model (dim 9) (Evaluation-Based)')"
      ]
     },
     "execution_count": 85,
     "metadata": {},
     "output_type": "execute_result"
    },
    {
     "data": {
      "image/png": "[encoded data removed]",
      "text/plain": [
       "<Figure size 432x288 with 1 Axes>"
      ]
     },
     "metadata": {
      "needs_background": "light"
     },
     "output_type": "display_data"
    }
   ],
   "source": [
    "i = 9\n",
    "plt.hist(results_3[:, i])\n",
    "plt.xlabel('dim {}'.format(i))\n",
    "plt.ylabel('count')\n",
    "plt.title('Hidden Markov Model (dim {}) (Evaluation-Based)'.format(i))"
   ]
  },
  {
   "cell_type": "code",
   "execution_count": 84,
   "id": "9a97e7fa",
   "metadata": {},
   "outputs": [
    {
     "data": {
      "text/plain": [
       "Text(0.5, 1.0, 'Hidden Markov Model (dim 10) (Evaluation-Based)')"
      ]
     },
     "execution_count": 84,
     "metadata": {},
     "output_type": "execute_result"
    },
    {
     "data": {
      "image/png": "[encoded data removed]",
      "text/plain": [
       "<Figure size 432x288 with 1 Axes>"
      ]
     },
     "metadata": {
      "needs_background": "light"
     },
     "output_type": "display_data"
    }
   ],
   "source": [
    "i = 10\n",
    "plt.hist(results_3[:, i])\n",
    "plt.xlabel('dim {}'.format(i))\n",
    "plt.ylabel('count')\n",
    "plt.title('Hidden Markov Model (dim {}) (Evaluation-Based)'.format(i))"
   ]
  },
  {
   "cell_type": "code",
   "execution_count": 83,
   "id": "7bd77100",
   "metadata": {},
   "outputs": [
    {
     "data": {
      "text/plain": [
       "Text(0.5, 1.0, 'Hidden Markov Model (dim 11) (Evaluation-Based)')"
      ]
     },
     "execution_count": 83,
     "metadata": {},
     "output_type": "execute_result"
    },
    {
     "data": {
      "image/png": "[encoded data removed]",
      "text/plain": [
       "<Figure size 432x288 with 1 Axes>"
      ]
     },
     "metadata": {
      "needs_background": "light"
     },
     "output_type": "display_data"
    }
   ],
   "source": [
    "i = 11\n",
    "plt.hist(results_3[:, i])\n",
    "plt.xlabel('dim {}'.format(i))\n",
    "plt.ylabel('count')\n",
    "plt.title('Hidden Markov Model (dim {}) (Evaluation-Based)'.format(i))"
   ]
  },
  {
   "cell_type": "code",
   "execution_count": 82,
   "id": "b41933f7",
   "metadata": {},
   "outputs": [
    {
     "data": {
      "text/plain": [
       "Text(0.5, 1.0, 'Hidden Markov Model (dim 12) (Evaluation-Based)')"
      ]
     },
     "execution_count": 82,
     "metadata": {},
     "output_type": "execute_result"
    },
    {
     "data": {
      "image/png": "[encoded data removed]",
      "text/plain": [
       "<Figure size 432x288 with 1 Axes>"
      ]
     },
     "metadata": {
      "needs_background": "light"
     },
     "output_type": "display_data"
    }
   ],
   "source": [
    "i = 12\n",
    "plt.hist(results_3[:, i])\n",
    "plt.xlabel('dim {}'.format(i))\n",
    "plt.ylabel('count')\n",
    "plt.title('Hidden Markov Model (dim {}) (Evaluation-Based)'.format(i))"
   ]
  },
  {
   "cell_type": "code",
   "execution_count": 81,
   "id": "eca756d3",
   "metadata": {},
   "outputs": [
    {
     "data": {
      "text/plain": [
       "Text(0.5, 1.0, 'Hidden Markov Model (dim 13) (Evaluation-Based)')"
      ]
     },
     "execution_count": 81,
     "metadata": {},
     "output_type": "execute_result"
    },
    {
     "data": {
      "image/png": "[encoded data removed]",
      "text/plain": [
       "<Figure size 432x288 with 1 Axes>"
      ]
     },
     "metadata": {
      "needs_background": "light"
     },
     "output_type": "display_data"
    }
   ],
   "source": [
    "i = 13\n",
    "plt.hist(results_3[:, i])\n",
    "plt.xlabel('dim {}'.format(i))\n",
    "plt.ylabel('count')\n",
    "plt.title('Hidden Markov Model (dim {}) (Evaluation-Based)'.format(i))"
   ]
  },
  {
   "cell_type": "code",
   "execution_count": 80,
   "id": "b54fba7a",
   "metadata": {},
   "outputs": [
    {
     "data": {
      "text/plain": [
       "Text(0.5, 1.0, 'Hidden Markov Model (dim 14) (Evaluation-Based)')"
      ]
     },
     "execution_count": 80,
     "metadata": {},
     "output_type": "execute_result"
    },
    {
     "data": {
      "image/png": "[encoded data removed]",
      "text/plain": [
       "<Figure size 432x288 with 1 Axes>"
      ]
     },
     "metadata": {
      "needs_background": "light"
     },
     "output_type": "display_data"
    }
   ],
   "source": [
    "i = 14\n",
    "plt.hist(results_3[:, i])\n",
    "plt.xlabel('dim {}'.format(i))\n",
    "plt.ylabel('count')\n",
    "plt.title('Hidden Markov Model (dim {}) (Evaluation-Based)'.format(i))"
   ]
  },
  {
   "cell_type": "code",
   "execution_count": 78,
   "id": "001759a3",
   "metadata": {},
   "outputs": [
    {
     "data": {
      "text/plain": [
       "Text(0.5, 1.0, 'Hidden Markov Model (dim 15) (Evaluation-Based)')"
      ]
     },
     "execution_count": 78,
     "metadata": {},
     "output_type": "execute_result"
    },
    {
     "data": {
      "image/png": "[encoded data removed]",
      "text/plain": [
       "<Figure size 432x288 with 1 Axes>"
      ]
     },
     "metadata": {
      "needs_background": "light"
     },
     "output_type": "display_data"
    }
   ],
   "source": [
    "i = 15\n",
    "plt.hist(results_3[:, i])\n",
    "plt.xlabel('dim {}'.format(i))\n",
    "plt.ylabel('count')\n",
    "plt.title('Hidden Markov Model (dim {}) (Evaluation-Based)'.format(i))"
   ]
  },
  {
   "cell_type": "code",
   "execution_count": 79,
   "id": "0ea31328",
   "metadata": {},
   "outputs": [
    {
     "data": {
      "text/plain": [
       "Text(0.5, 1.0, 'Hidden Markov Model (dim 16) (Evaluation-Based)')"
      ]
     },
     "execution_count": 79,
     "metadata": {},
     "output_type": "execute_result"
    },
    {
     "data": {
      "image/png": "[encoded data removed]",
      "text/plain": [
       "<Figure size 432x288 with 1 Axes>"
      ]
     },
     "metadata": {
      "needs_background": "light"
     },
     "output_type": "display_data"
    }
   ],
   "source": [
    "i = 16\n",
    "plt.hist(results_3[:, i])\n",
    "plt.xlabel('dim {}'.format(i))\n",
    "plt.ylabel('count')\n",
    "plt.title('Hidden Markov Model (dim {}) (Evaluation-Based)'.format(i))"
   ]
  },
  {
   "cell_type": "code",
   "execution_count": 64,
   "id": "30809d32",
   "metadata": {},
   "outputs": [
    {
     "data": {
      "text/plain": [
       "array([0.995, 1.378, 1.472, 1.447, 1.485, 1.5  , 1.463, 1.48 , 1.497,\n",
       "       1.517, 1.509, 1.477, 1.532, 1.474, 1.442, 1.485, 1.466])"
      ]
     },
     "execution_count": 64,
     "metadata": {},
     "output_type": "execute_result"
    }
   ],
   "source": [
    "np.mean(results_3, axis=0)"
   ]
  },
  {
   "cell_type": "markdown",
   "id": "4dbd0922",
   "metadata": {},
   "source": [
    "# Program 4"
   ]
  },
  {
   "cell_type": "code",
   "execution_count": 66,
   "id": "3598f5bd",
   "metadata": {},
   "outputs": [],
   "source": [
    "i=4\n",
    "ast = daphne(['desugar', '-i', '../CS532-HW2/programs/{}.daphne'.format(i)])"
   ]
  },
  {
   "cell_type": "code",
   "execution_count": 67,
   "id": "2c6285ff",
   "metadata": {},
   "outputs": [
    {
     "name": "stdout",
     "output_type": "stream",
     "text": [
      "(tensor([[ 1.4141],\n",
      "        [ 0.8765],\n",
      "        [ 0.5880],\n",
      "        [-1.5198],\n",
      "        [-0.8073],\n",
      "        [-1.2833],\n",
      "        [ 1.4462],\n",
      "        [-0.1839],\n",
      "        [-0.3833],\n",
      "        [-0.0150]]), tensor([[-0.3743],\n",
      "        [ 1.1586],\n",
      "        [ 0.2057],\n",
      "        [-1.0828],\n",
      "        [ 0.3008],\n",
      "        [ 0.8869],\n",
      "        [-1.1427],\n",
      "        [ 1.1455],\n",
      "        [ 0.3590],\n",
      "        [ 0.9784]]), tensor([[-0.1504,  0.7666,  0.1019, -0.5412, -0.0961,  0.8524, -0.6334, -0.6001,\n",
      "         -1.2728, -0.1771],\n",
      "        [-2.4504, -0.3162,  0.0251, -1.0948, -0.7497, -0.0839,  0.9000,  0.6104,\n",
      "         -0.6337, -1.5308],\n",
      "        [-1.2708, -0.7771, -0.0921,  1.0128,  0.4595, -0.1219, -0.2020,  0.1243,\n",
      "         -0.7990, -0.3741],\n",
      "        [ 0.6316, -1.0369, -0.0932, -0.1861,  0.4731, -0.5760,  0.8886,  1.3612,\n",
      "         -0.3560, -0.6627],\n",
      "        [ 0.7172, -0.7923,  0.8389, -0.8088,  0.6562,  0.4158,  0.5689,  1.4741,\n",
      "         -2.5236, -1.6590],\n",
      "        [ 1.7362,  1.0949, -1.1764, -0.7614, -1.2545, -0.8786,  0.1211, -0.0495,\n",
      "         -0.4016, -0.1049],\n",
      "        [-1.1923,  0.2426, -0.1462,  0.3114,  1.2887,  0.6658,  0.4314, -0.0420,\n",
      "         -1.6955,  0.4418],\n",
      "        [ 0.0990,  0.5343, -2.3268, -0.2396,  0.6290,  0.4456,  0.2543, -1.1392,\n",
      "         -0.5871,  0.4174],\n",
      "        [ 0.8785,  0.0315, -1.2026, -0.5066, -0.5891, -0.8299, -1.0704, -0.3071,\n",
      "         -0.6259, -0.0128],\n",
      "        [ 1.1649,  0.3066,  0.3184, -1.6057,  0.4778,  0.1170, -0.3877, -0.4472,\n",
      "         -1.8032,  0.3524]]), tensor([[-0.4240],\n",
      "        [ 0.4279],\n",
      "        [ 0.6216],\n",
      "        [ 1.1412],\n",
      "        [ 0.0759],\n",
      "        [-0.0383],\n",
      "        [ 0.1477],\n",
      "        [-0.5414],\n",
      "        [ 0.0286],\n",
      "        [-1.4099]]))\n"
     ]
    }
   ],
   "source": [
    "print(evaluate_program(ast, return_sig=True)[0])"
   ]
  },
  {
   "cell_type": "code",
   "execution_count": 74,
   "id": "513296b6",
   "metadata": {},
   "outputs": [
    {
     "name": "stdout",
     "output_type": "stream",
     "text": [
      "torch.Size([10])\n",
      "torch.Size([10])\n",
      "torch.Size([100])\n",
      "torch.Size([10])\n"
     ]
    }
   ],
   "source": [
    "test=evaluate_program(ast, return_sig=True)[0]\n",
    "print(test[0].flatten().size())\n",
    "print(test[1].flatten().size())\n",
    "print(test[2].flatten().size())\n",
    "print(test[3].flatten().size())"
   ]
  },
  {
   "cell_type": "code",
   "execution_count": 75,
   "id": "a69cb4dc",
   "metadata": {},
   "outputs": [],
   "source": [
    "results_4_1 = np.zeros((1000, 10))\n",
    "results_4_2 = np.zeros((1000, 10))\n",
    "results_4_3 = np.zeros((1000, 100))\n",
    "results_4_4 = np.zeros((1000, 10))\n",
    "\n",
    "for i in range(1000):\n",
    "    result = evaluate_program(ast, return_sig=True)[0]\n",
    "    results_4_1[i] = result[0].flatten().numpy()\n",
    "    results_4_2[i] = result[1].flatten().numpy()\n",
    "    results_4_3[i] = result[2].flatten().numpy()\n",
    "    results_4_4[i] = result[3].flatten().numpy()"
   ]
  },
  {
   "cell_type": "code",
   "execution_count": 77,
   "id": "ff168adb",
   "metadata": {},
   "outputs": [
    {
     "data": {
      "text/plain": [
       "Text(0.5, 1.0, 'Bayesian Neural Network (W0, dim0) (Evaluation-Based)')"
      ]
     },
     "execution_count": 77,
     "metadata": {},
     "output_type": "execute_result"
    },
    {
     "data": {
      "image/png": "[encoded data removed]",
      "text/plain": [
       "<Figure size 432x288 with 1 Axes>"
      ]
     },
     "metadata": {
      "needs_background": "light"
     },
     "output_type": "display_data"
    }
   ],
   "source": [
    "i = 0\n",
    "plt.hist(results_4_1[:, i])\n",
    "plt.xlabel('W0: dim {}'.format(i))\n",
    "plt.ylabel('count')\n",
    "plt.title('Bayesian Neural Network (W0, dim0) (Evaluation-Based)')"
   ]
  },
  {
   "cell_type": "code",
   "execution_count": 97,
   "id": "0bd29a7d",
   "metadata": {},
   "outputs": [
    {
     "data": {
      "text/plain": [
       "Text(0.5, 1.0, 'Bayesian Neural Network (b0, dim0) (Evaluation-Based)')"
      ]
     },
     "execution_count": 97,
     "metadata": {},
     "output_type": "execute_result"
    },
    {
     "data": {
      "image/png": "[encoded data removed]",
      "text/plain": [
       "<Figure size 432x288 with 1 Axes>"
      ]
     },
     "metadata": {
      "needs_background": "light"
     },
     "output_type": "display_data"
    }
   ],
   "source": [
    "i = 0\n",
    "plt.hist(results_4_2[:, i])\n",
    "plt.xlabel('b0: dim {}'.format(i))\n",
    "plt.ylabel('count')\n",
    "plt.title('Bayesian Neural Network (b0, dim0) (Evaluation-Based)')"
   ]
  },
  {
   "cell_type": "code",
   "execution_count": 98,
   "id": "9a7c724c",
   "metadata": {},
   "outputs": [
    {
     "data": {
      "text/plain": [
       "Text(0.5, 1.0, 'Bayesian Neural Network (W1, dim0) (Evaluation-Based)')"
      ]
     },
     "execution_count": 98,
     "metadata": {},
     "output_type": "execute_result"
    },
    {
     "data": {
      "image/png": "[encoded data removed]",
      "text/plain": [
       "<Figure size 432x288 with 1 Axes>"
      ]
     },
     "metadata": {
      "needs_background": "light"
     },
     "output_type": "display_data"
    }
   ],
   "source": [
    "i = 0\n",
    "plt.hist(results_4_3[:, i])\n",
    "plt.xlabel('W1: dim {}'.format(i))\n",
    "plt.ylabel('count')\n",
    "plt.title('Bayesian Neural Network (W1, dim0) (Evaluation-Based)')"
   ]
  },
  {
   "cell_type": "code",
   "execution_count": 99,
   "id": "2879e9e9",
   "metadata": {},
   "outputs": [
    {
     "data": {
      "text/plain": [
       "Text(0.5, 1.0, 'Bayesian Neural Network (b1, dim0) (Evaluation-Based)')"
      ]
     },
     "execution_count": 99,
     "metadata": {},
     "output_type": "execute_result"
    },
    {
     "data": {
      "image/png": "[encoded data removed]",
      "text/plain": [
       "<Figure size 432x288 with 1 Axes>"
      ]
     },
     "metadata": {
      "needs_background": "light"
     },
     "output_type": "display_data"
    }
   ],
   "source": [
    "i = 0\n",
    "plt.hist(results_4_4[:, i])\n",
    "plt.xlabel('b1: dim {}'.format(i))\n",
    "plt.ylabel('count')\n",
    "plt.title('Bayesian Neural Network (b1, dim0) (Evaluation-Based)')"
   ]
  },
  {
   "cell_type": "code",
   "execution_count": 100,
   "id": "1cafcf66",
   "metadata": {},
   "outputs": [
    {
     "data": {
      "text/plain": [
       "array([ 0.06210016, -0.0124073 ,  0.02690243, -0.02579805, -0.00581487,\n",
       "        0.0249348 ,  0.00161231,  0.00578257,  0.0058268 , -0.01553683])"
      ]
     },
     "execution_count": 100,
     "metadata": {},
     "output_type": "execute_result"
    }
   ],
   "source": [
    "np.mean(results_4_1, axis=0)"
   ]
  },
  {
   "cell_type": "code",
   "execution_count": 101,
   "id": "1df08ec2",
   "metadata": {},
   "outputs": [
    {
     "data": {
      "text/plain": [
       "array([ 2.69428645e-02, -2.90134809e-02,  3.38031984e-02,  2.56868738e-02,\n",
       "        5.49964488e-05,  4.10347368e-02, -3.63386200e-02,  4.04563448e-02,\n",
       "        7.23249204e-03, -2.63176928e-02])"
      ]
     },
     "execution_count": 101,
     "metadata": {},
     "output_type": "execute_result"
    }
   ],
   "source": [
    "np.mean(results_4_2, axis=0)"
   ]
  },
  {
   "cell_type": "code",
   "execution_count": 102,
   "id": "1999a64e",
   "metadata": {},
   "outputs": [
    {
     "data": {
      "text/plain": [
       "array([-1.69434429e-02, -2.82588857e-02,  8.41523389e-03, -4.17425348e-02,\n",
       "        2.59640710e-02, -1.02361627e-02, -1.57667506e-02, -2.85485419e-02,\n",
       "        1.07463385e-02,  1.08434329e-02, -7.79320669e-05, -1.99428492e-02,\n",
       "       -2.82253434e-02, -8.88817147e-03,  2.60452806e-03,  3.74277758e-03,\n",
       "       -5.72703136e-02, -1.05878194e-02,  9.27220891e-03,  7.51811433e-02,\n",
       "       -3.49123586e-02,  2.28955057e-02,  1.51579198e-02, -9.92869577e-03,\n",
       "        2.42693261e-02, -5.00943136e-02, -8.63236373e-03, -3.88687168e-02,\n",
       "       -8.47227844e-03,  2.06014886e-02,  1.57140502e-03,  5.44032320e-03,\n",
       "       -4.72808148e-03, -6.66817055e-04, -1.71323397e-02,  4.64313448e-02,\n",
       "        2.13817890e-02, -6.56111340e-02, -9.92387404e-03,  5.52050047e-02,\n",
       "        1.25957220e-02, -1.95701533e-02, -6.42880902e-02,  1.50441356e-02,\n",
       "        6.11960852e-03,  1.11983488e-02, -7.55744832e-04, -2.55554180e-02,\n",
       "        3.23528831e-02,  7.53206097e-03, -3.07324243e-02, -1.03162070e-02,\n",
       "        1.62823585e-03,  1.53626105e-02, -4.20173905e-03,  2.00823937e-02,\n",
       "        6.83031298e-02,  3.05706318e-02,  1.90231915e-03,  5.72333428e-02,\n",
       "        1.94055447e-02,  1.66343135e-02, -1.09642033e-01,  6.10621293e-02,\n",
       "       -6.55929835e-03, -2.31045455e-03, -1.46442776e-02, -2.63787101e-02,\n",
       "        9.58841983e-03,  3.53166784e-02, -1.77895083e-02,  1.62644741e-02,\n",
       "       -2.41843850e-02, -1.40298754e-02, -4.50324789e-03, -4.19642519e-02,\n",
       "        3.64852807e-02,  7.87186452e-02,  6.92029444e-02, -4.65661526e-02,\n",
       "       -5.01811253e-02,  1.95262488e-03, -3.91899948e-02,  3.37321727e-02,\n",
       "        4.71568088e-03, -5.27557805e-02,  1.62302385e-02, -5.04624785e-03,\n",
       "        9.76314997e-04, -2.47515755e-05,  5.49314207e-02, -6.02149476e-02,\n",
       "       -3.11877268e-02, -3.55572032e-02, -8.92892702e-03, -1.90031423e-02,\n",
       "        2.09533983e-02, -3.94731301e-02, -4.50952490e-02, -1.58292776e-02])"
      ]
     },
     "execution_count": 102,
     "metadata": {},
     "output_type": "execute_result"
    }
   ],
   "source": [
    "np.mean(results_4_3, axis=0)"
   ]
  },
  {
   "cell_type": "code",
   "execution_count": 105,
   "id": "e98e08ac",
   "metadata": {},
   "outputs": [
    {
     "data": {
      "text/plain": [
       "array([ 0.03871661, -0.00283617, -0.0330745 ,  0.00633988, -0.01339671,\n",
       "       -0.03604239, -0.00124856,  0.01376909,  0.04508563,  0.01498971])"
      ]
     },
     "execution_count": 105,
     "metadata": {},
     "output_type": "execute_result"
    }
   ],
   "source": [
    "np.mean(results_4_4, axis=0)"
   ]
  },
  {
   "cell_type": "code",
   "execution_count": 106,
   "id": "04fe6032",
   "metadata": {},
   "outputs": [
    {
     "data": {
      "text/plain": [
       "array([1.03662914, 0.9986556 , 0.99605675, 1.00445755, 1.0183881 ,\n",
       "       0.97672567, 1.02351632, 1.00996519, 1.00128999, 1.0019746 ])"
      ]
     },
     "execution_count": 106,
     "metadata": {},
     "output_type": "execute_result"
    }
   ],
   "source": [
    "np.std(results_4_1, axis=0)"
   ]
  },
  {
   "cell_type": "code",
   "execution_count": 107,
   "id": "3301db00",
   "metadata": {},
   "outputs": [
    {
     "data": {
      "text/plain": [
       "array([1.04052451, 0.98248427, 0.96876835, 1.06081871, 1.00277508,\n",
       "       0.97440994, 1.01680225, 1.05082494, 1.00306972, 0.99658559])"
      ]
     },
     "execution_count": 107,
     "metadata": {},
     "output_type": "execute_result"
    }
   ],
   "source": [
    "np.std(results_4_2, axis=0)"
   ]
  },
  {
   "cell_type": "code",
   "execution_count": 108,
   "id": "068bb1ad",
   "metadata": {},
   "outputs": [
    {
     "data": {
      "text/plain": [
       "array([0.98620818, 0.96579226, 1.00185973, 0.98271668, 0.96763741,\n",
       "       0.99043092, 0.99633301, 1.0027085 , 1.00279904, 1.0118756 ,\n",
       "       0.95720339, 0.9924322 , 1.0227718 , 1.00323677, 0.97194675,\n",
       "       1.03115181, 1.0025122 , 1.00771746, 0.97943995, 1.01444232,\n",
       "       1.02119408, 1.00668455, 1.0416555 , 0.9902275 , 1.02141948,\n",
       "       0.989611  , 1.00500471, 1.00179032, 0.99741075, 1.00473739,\n",
       "       0.97645031, 1.00764762, 1.02662359, 0.97405227, 1.03348379,\n",
       "       0.99950394, 1.00828024, 1.01620557, 1.01142844, 1.00577192,\n",
       "       1.00323242, 0.99991104, 1.02175569, 1.02487259, 0.98368197,\n",
       "       0.95304158, 1.01179319, 0.97659899, 0.99080167, 0.96968245,\n",
       "       0.98364952, 0.98441051, 0.99608548, 0.980823  , 1.00388991,\n",
       "       0.95581718, 1.00212766, 0.96510007, 1.02829354, 1.00305902,\n",
       "       0.99422837, 1.03201975, 1.0280412 , 1.01297216, 1.02134089,\n",
       "       0.98069872, 1.0126956 , 0.97710262, 1.01814403, 1.01616897,\n",
       "       0.99616565, 0.958174  , 1.00939591, 0.98508181, 1.03630117,\n",
       "       0.99731416, 0.97724469, 0.98327089, 0.99534615, 0.990222  ,\n",
       "       0.98381622, 0.98443446, 0.97997817, 1.04659054, 1.01233375,\n",
       "       1.0402526 , 0.95494613, 0.98441783, 0.97652174, 0.99763453,\n",
       "       0.99658439, 0.99469019, 1.01210882, 0.99980971, 1.03518826,\n",
       "       0.98504829, 0.95375807, 0.98498425, 1.01011867, 0.98862774])"
      ]
     },
     "execution_count": 108,
     "metadata": {},
     "output_type": "execute_result"
    }
   ],
   "source": [
    "np.std(results_4_3, axis=0)"
   ]
  },
  {
   "cell_type": "code",
   "execution_count": 109,
   "id": "98082a67",
   "metadata": {},
   "outputs": [
    {
     "data": {
      "text/plain": [
       "array([0.98374418, 1.00013264, 1.00090599, 0.98512603, 0.98987266,\n",
       "       1.02615077, 0.99505858, 1.00615044, 0.99214421, 1.00153752])"
      ]
     },
     "execution_count": 109,
     "metadata": {},
     "output_type": "execute_result"
    }
   ],
   "source": [
    "np.std(results_4_4, axis=0)"
   ]
  },
  {
   "cell_type": "code",
   "execution_count": null,
   "id": "789596bd",
   "metadata": {},
   "outputs": [],
   "source": []
  }
 ],
 "metadata": {
  "kernelspec": {
   "display_name": "Python 3 (ipykernel)",
   "language": "python",
   "name": "python3"
  },
  "language_info": {
   "codemirror_mode": {
    "name": "ipython",
    "version": 3
   },
   "file_extension": ".py",
   "mimetype": "text/x-python",
   "name": "python",
   "nbconvert_exporter": "python",
   "pygments_lexer": "ipython3",
   "version": "3.8.5"
  }
 },
 "nbformat": 4,
 "nbformat_minor": 5
}
